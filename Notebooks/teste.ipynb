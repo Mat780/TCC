{
 "cells": [
  {
   "cell_type": "code",
   "execution_count": 147,
   "metadata": {},
   "outputs": [],
   "source": [
    "import pandas as pd\n",
    "\n",
    "a = pd.read_csv(\"../Bases/creditcard.csv\")\n",
    "colunasDef = a.columns\n",
    "a['Index'] = a.index"
   ]
  },
  {
   "cell_type": "code",
   "execution_count": 137,
   "metadata": {},
   "outputs": [
    {
     "name": "stdout",
     "output_type": "stream",
     "text": [
      "0              0\n",
      "1              1\n",
      "2              2\n",
      "3              3\n",
      "4              4\n",
      "           ...  \n",
      "230688    256321\n",
      "230689    256322\n",
      "230690    256323\n",
      "230691    256324\n",
      "230692    256325\n",
      "Name: Index, Length: 230693, dtype: int64\n"
     ]
    }
   ],
   "source": [
    "b = pd.read_csv(\"../Bases/treino.csv\")\n",
    "print(b.Index)"
   ]
  },
  {
   "cell_type": "code",
   "execution_count": 149,
   "metadata": {},
   "outputs": [
    {
     "name": "stdout",
     "output_type": "stream",
     "text": [
      "['Time', 'V1', 'V2', 'V3', 'V4', 'V5', 'V6', 'V7', 'V8', 'V9', 'V10', 'V11', 'V12', 'V13', 'V14', 'V15', 'V16', 'V17', 'V18', 'V19', 'V20', 'V21', 'V22', 'V23', 'V24', 'V25', 'V26', 'V27', 'V28', 'Amount', 'Class']\n"
     ]
    }
   ],
   "source": [
    "colunas = []\n",
    "\n",
    "for i in range(len(colunasDef)):\n",
    "    colunas.append(colunasDef[i])\n",
    "\n",
    "print(colunas)"
   ]
  },
  {
   "cell_type": "code",
   "execution_count": 151,
   "metadata": {},
   "outputs": [
    {
     "name": "stdout",
     "output_type": "stream",
     "text": [
      "287981\n",
      "233867\n"
     ]
    }
   ],
   "source": [
    "# a = a.drop('Index', axis=1)\n",
    "# b = b.drop('Index', axis=1)\n",
    "\n",
    "c = pd.merge(a, b, on=colunas, how='left', indicator='OK')\n",
    "print(len(c))\n",
    "c = c.loc[c.OK == 'both']\n",
    "\n",
    "c['Index'] = c.index\n",
    "c = c.drop('OK', axis=1)\n",
    "\n",
    "print(len(c))\n",
    "\n",
    "c.to_csv('output.csv')"
   ]
  },
  {
   "cell_type": "code",
   "execution_count": null,
   "metadata": {},
   "outputs": [],
   "source": []
  }
 ],
 "metadata": {
  "kernelspec": {
   "display_name": "Python 3",
   "language": "python",
   "name": "python3"
  },
  "language_info": {
   "codemirror_mode": {
    "name": "ipython",
    "version": 3
   },
   "file_extension": ".py",
   "mimetype": "text/x-python",
   "name": "python",
   "nbconvert_exporter": "python",
   "pygments_lexer": "ipython3",
   "version": "3.11.4"
  }
 },
 "nbformat": 4,
 "nbformat_minor": 2
}
