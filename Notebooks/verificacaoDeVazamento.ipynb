{
 "cells": [
  {
   "cell_type": "code",
   "execution_count": 93,
   "metadata": {},
   "outputs": [
    {
     "name": "stdout",
     "output_type": "stream",
     "text": [
      "Len of df_train:      233867\n",
      "Len of df_validation:  25633\n",
      "Len of df_test:        28481\n"
     ]
    }
   ],
   "source": [
    "import numpy as np\n",
    "import pandas as pd\n",
    "\n",
    "def readTrainDataframe():\n",
    "    return pd.read_csv(\"output.csv\")\n",
    "\n",
    "def readValidationDataframe():\n",
    "    return pd.read_csv(\"../Bases/validacao.csv\")\n",
    "\n",
    "def readTestDataframe():\n",
    "    return pd.read_csv(\"../Bases/teste.csv\")\n",
    "\n",
    "df_train = readTrainDataframe()\n",
    "df_validation = readValidationDataframe()\n",
    "df_test = readTestDataframe()\n",
    "\n",
    "print(f\"Len of df_train:      {len(df_train):6}\")\n",
    "print(f\"Len of df_validation: {len(df_validation):6}\")\n",
    "print(f\"Len of df_test:       {len(df_test):6}\")"
   ]
  },
  {
   "cell_type": "code",
   "execution_count": 79,
   "metadata": {},
   "outputs": [],
   "source": [
    "# Python code from Blender build scripts\n",
    "# Changes from original code: 'bcolors' to 'colors'\n",
    "\n",
    "class colors:\n",
    "    HEADER = '\\033[95m'\n",
    "    OKBLUE = '\\033[94m'\n",
    "    OKCYAN = '\\033[96m'\n",
    "    OKGREEN = '\\033[92m'\n",
    "    WARNING = '\\033[93m'\n",
    "    FAIL = '\\033[91m'\n",
    "    ENDC = '\\033[0m'\n",
    "    BOLD = '\\033[1m'\n",
    "    UNDERLINE = '\\033[4m'"
   ]
  },
  {
   "cell_type": "code",
   "execution_count": 94,
   "metadata": {},
   "outputs": [
    {
     "name": "stdout",
     "output_type": "stream",
     "text": [
      "\u001b[91m736 line(s) had leaked between train and validation\n",
      "\u001b[91m1665 line(s) had leaked between train and test\n",
      "\u001b[92mNo leaked information between validation and test\n",
      "\u001b[94mThe following test is an proof to know if the function really works when there is a leak, it MUST fail\n",
      "\u001b[91m736 line(s) had leaked between train and validation\n"
     ]
    }
   ],
   "source": [
    "# def howMuchInformationLeaked(df_A, df_B):\n",
    "#     leak = df_A.Index.isin(df_B.Index)\n",
    "#     leak = leak[leak == True]\n",
    "#     how_much_leak = len(leak)\n",
    "#     return how_much_leak\n",
    "\n",
    "def howMuchInformationLeaked(df_A, df_B):\n",
    "    merged_df = pd.merge(df_A, df_B, on=['Index'])\n",
    "    merged_df = merged_df.Index\n",
    "    how_much_leak = len(merged_df)\n",
    "    return how_much_leak\n",
    "\n",
    "#* Test between Train and Validation\n",
    "how_much_leak = howMuchInformationLeaked(df_train, df_validation)\n",
    "if (how_much_leak == 0):\n",
    "    print(f\"{colors.OKGREEN}No leaked information between train and validation\")\n",
    "else: \n",
    "    print(f\"{colors.FAIL}{how_much_leak} line(s) had leaked between train and validation\")\n",
    "\n",
    "#* Test between Train and Test\n",
    "how_much_leak = howMuchInformationLeaked(df_train, df_test)\n",
    "if (how_much_leak == 0):\n",
    "    print(f\"{colors.OKGREEN}No leaked information between train and test\")\n",
    "else: \n",
    "    print(f\"{colors.FAIL}{how_much_leak} line(s) had leaked between train and test\")\n",
    "\n",
    "#* Test between Validation and Test\n",
    "how_much_leak = howMuchInformationLeaked(df_validation, df_test)\n",
    "if (how_much_leak == 0):\n",
    "    print(f\"{colors.OKGREEN}No leaked information between validation and test\")\n",
    "else: \n",
    "    print(f\"{colors.FAIL}{how_much_leak} line(s) had leaked between validation and test\")\n",
    "\n",
    "#* Test to assure the realibity of 'howMuchInformationLeaked' function, this test MUST fail\n",
    "print(f\"{colors.OKBLUE}The following test is an proof to know if the function really works when there is a leak, it MUST fail\")\n",
    "df_validation.loc[1:20, 'Index'] = df_train.Index[0]\n",
    "how_much_leak = howMuchInformationLeaked(df_validation, df_train)\n",
    "if (how_much_leak == 0):\n",
    "    print(f\"{colors.OKGREEN}No leaked information between train and validation\")\n",
    "else: \n",
    "    print(f\"{colors.FAIL}{how_much_leak} line(s) had leaked between train and validation\")\n",
    "df_validation = readValidationDataframe()\n"
   ]
  },
  {
   "cell_type": "code",
   "execution_count": 16,
   "metadata": {},
   "outputs": [
    {
     "name": "stdout",
     "output_type": "stream",
     "text": [
      "Index\n",
      "Index\n",
      "Index\n"
     ]
    }
   ],
   "source": [
    "print(df_train.columns[0])\n",
    "print(df_validation.columns[0])\n",
    "print(df_test.columns[0])"
   ]
  }
 ],
 "metadata": {
  "kernelspec": {
   "display_name": "Python 3",
   "language": "python",
   "name": "python3"
  },
  "language_info": {
   "codemirror_mode": {
    "name": "ipython",
    "version": 3
   },
   "file_extension": ".py",
   "mimetype": "text/x-python",
   "name": "python",
   "nbconvert_exporter": "python",
   "pygments_lexer": "ipython3",
   "version": "3.11.4"
  }
 },
 "nbformat": 4,
 "nbformat_minor": 2
}
