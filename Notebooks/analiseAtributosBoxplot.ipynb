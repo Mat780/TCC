{
  "cells": [
    {
      "cell_type": "code",
      "execution_count": 2,
      "metadata": {
        "colab": {
          "base_uri": "https://localhost:8080/"
        },
        "id": "dyLkCvTjpKC6",
        "outputId": "37a38f6b-e411-4d3f-9d16-f35a19b2f150"
      },
      "outputs": [
        {
          "name": "stdout",
          "output_type": "stream",
          "text": [
            "284315\n",
            "492\n"
          ]
        }
      ],
      "source": [
        "import numpy as np\n",
        "import pandas as pd # importando a lib pandas para armazenar os dados\n",
        "import matplotlib.pyplot as plt # importando a bib matplotlib para visualizar os dados em gráficos\n",
        "import seaborn as sb # important a lib seaborn para visualização de gráficos\n",
        "\n",
        "# Base de dados baixada a partir do Kaggle: https://www.kaggle.com/datasets/mlg-ulb/creditcardfraud?resource=download\n",
        "df = pd.read_csv('../Bases/creditcard.csv')\n",
        "\n",
        "df.head()\n",
        "\n",
        "data = df.to_numpy()\n",
        "\n",
        "legitimos = data[data[:,30] == 0]\n",
        "fraudes = data[data[:,30] == 1]\n",
        "\n",
        "print(len(legitimos))\n",
        "print(len(fraudes))\n",
        "\n",
        "colunas = {\"Time\": 0,\n",
        "           \"A1\": 1,\n",
        "           \"A2\": 2,\n",
        "           \"A3\": 3,\n",
        "           \"A4\": 4,\n",
        "           \"A5\": 5,\n",
        "           \"A6\": 6,\n",
        "           \"A7\": 7,\n",
        "           \"A8\": 8,\n",
        "           \"A9\": 9,\n",
        "           \"A10\": 10,\n",
        "           \"A11\": 11,\n",
        "           \"A12\": 12,\n",
        "           \"A13\": 13,\n",
        "           \"A14\": 14,\n",
        "           \"A15\": 15,\n",
        "           \"A16\": 16,\n",
        "           \"A17\": 17,\n",
        "           \"A18\": 18,\n",
        "           \"A19\": 19,\n",
        "           \"A20\": 20,\n",
        "           \"A21\": 21,\n",
        "           \"A22\": 22,\n",
        "           \"A23\": 23,\n",
        "           \"A24\": 24,\n",
        "           \"A25\": 25,\n",
        "           \"A26\": 26,\n",
        "           \"A27\": 27,\n",
        "           \"A28\": 28,\n",
        "           \"Amount\": 29,\n",
        "           \"Classe\": 30}"
      ]
    },
    {
      "cell_type": "code",
      "execution_count": 3,
      "metadata": {
        "colab": {
          "base_uri": "https://localhost:8080/",
          "height": 503
        },
        "id": "5aaM-6GIpb69",
        "outputId": "f7acb00d-3659-49c6-a97b-72f5e05f1296"
      },
      "outputs": [
        {
          "name": "stdout",
          "output_type": "stream",
          "text": [
            "Legitimo --> Mediana: 84711.0000, Minimo da caixa: 0.0, Maximo da caixa: 172792.0\n",
            "Outliers: Minimo --- e Maximo ---\n",
            "Fraude --> Mediana: 75568.5000, Minimo da caixa: 406.0, Maximo da caixa: 170348.0\n",
            "Outliers: Minimo --- e Maximo ---\n"
          ]
        },
        {
          "data": {
            "image/png": "[encoded data removed]",
            "text/plain": [
              "<Figure size 432x288 with 1 Axes>"
            ]
          },
          "metadata": {
            "needs_background": "light"
          },
          "output_type": "display_data"
        }
      ],
      "source": [
        "bp = plt.boxplot([legitimos[:, colunas['Time']], fraudes[:, colunas['Time']]])\n",
        "\n",
        "coluna = 0\n",
        "\n",
        "medians = [item.get_ydata()[0] for item in bp['medians']]\n",
        "minimums = [round(item.get_ydata()[0], 1) for item in bp['caps']][::2]\n",
        "maximums = [round(item.get_ydata()[0], 1) for item in bp['caps']][1::2]\n",
        "\n",
        "outliersL = legitimos[legitimos[:, coluna] < minimums[0]]\n",
        "outliersL = outliersL[:, coluna]\n",
        "msgOutlierL_Bottom = \"---\"\n",
        "\n",
        "if outliersL.size > 0: msgOutlierL_Bottom = str(f\"{np.amin(outliersL):.4f}\")\n",
        "\n",
        "outliersL = legitimos[legitimos[:, coluna] > maximums[0]]\n",
        "outliersL = outliersL[:, coluna]\n",
        "msgOutlierL_Top = \"---\"\n",
        "\n",
        "if outliersL.size > 0: msgOutlierL_Top = str(f\"{np.amax(outliersL):.4f}\")\n",
        "\n",
        "outliersF = fraudes[fraudes[:,coluna] < minimums[1]]\n",
        "outliersF = outliersF[:, coluna]\n",
        "msgOutlierF_Bottom = \"---\"\n",
        "\n",
        "if outliersF.size > 0: msgOutlierF_Bottom = str(f\"{np.amin(outliersF):.4f}\")\n",
        "\n",
        "outliersF = fraudes[fraudes[:,coluna]  > maximums[1]]\n",
        "outliersF = outliersF[:, coluna]\n",
        "msgOutlierF_Top = \"---\"\n",
        "\n",
        "if outliersF.size > 0: msgOutlierF_Top = str(f\"{np.amax(outliersF):.4f}\")\n",
        "\n",
        "msgOutlierL = str(f\"\\nOutliers: Minimo {msgOutlierL_Bottom} e Maximo {msgOutlierL_Top}\")\n",
        "msgOutlierF = str(f\"\\nOutliers: Minimo {msgOutlierF_Bottom} e Maximo {msgOutlierF_Top}\")\n",
        "\n",
        "print(f\"Legitimo --> Mediana: {medians[0]:.4f}, Minimo da caixa: {minimums[0]}, Maximo da caixa: {maximums[0]}{msgOutlierL}\")\n",
        "print(f\"Fraude --> Mediana: {medians[1]:.4f}, Minimo da caixa: {minimums[1]}, Maximo da caixa: {maximums[1]}{msgOutlierF}\")\n",
        "\n",
        "plt.show()\n"
      ]
    },
    {
      "cell_type": "code",
      "execution_count": 4,
      "metadata": {
        "colab": {
          "base_uri": "https://localhost:8080/",
          "height": 503
        },
        "id": "kv9aG7XEtZhD",
        "outputId": "edf75870-eb6e-4b08-e8ca-af3a29353634"
      },
      "outputs": [
        {
          "name": "stdout",
          "output_type": "stream",
          "text": [
            "Legitimo --> Mediana: 0.0200, Minimo da caixa: -4.3, Maximo da caixa: 2.5\n",
            "Outliers: Minimo -56.4075 e Maximo ---\n",
            "Fraude --> Mediana: -2.3425, Minimo da caixa: -14.2, Maximo da caixa: 2.1\n",
            "Outliers: Minimo -30.5524 e Maximo 2.1324\n"
          ]
        },
        {
          "data": {
            "image/png": "[encoded data removed]",
            "text/plain": [
              "<Figure size 432x288 with 1 Axes>"
            ]
          },
          "metadata": {
            "needs_background": "light"
          },
          "output_type": "display_data"
        }
      ],
      "source": [
        "bp = plt.boxplot([legitimos[:, colunas['A1']], fraudes[:, colunas['A1']]])\n",
        "\n",
        "coluna = 1\n",
        "\n",
        "medians = [item.get_ydata()[0] for item in bp['medians']]\n",
        "minimums = [round(item.get_ydata()[0], 1) for item in bp['caps']][::2]\n",
        "maximums = [round(item.get_ydata()[0], 1) for item in bp['caps']][1::2]\n",
        "\n",
        "outliersL = legitimos[legitimos[:, coluna] < minimums[0]]\n",
        "outliersL = outliersL[:, coluna]\n",
        "msgOutlierL_Bottom = \"---\"\n",
        "\n",
        "if outliersL.size > 0: msgOutlierL_Bottom = str(f\"{np.amin(outliersL):.4f}\")\n",
        "\n",
        "outliersL = legitimos[legitimos[:, coluna] > maximums[0]]\n",
        "outliersL = outliersL[:, coluna]\n",
        "msgOutlierL_Top = \"---\"\n",
        "\n",
        "if outliersL.size > 0: msgOutlierL_Top = str(f\"{np.amax(outliersL):.4f}\")\n",
        "\n",
        "outliersF = fraudes[fraudes[:,coluna] < minimums[1]]\n",
        "outliersF = outliersF[:, coluna]\n",
        "msgOutlierF_Bottom = \"---\"\n",
        "\n",
        "if outliersF.size > 0: msgOutlierF_Bottom = str(f\"{np.amin(outliersF):.4f}\")\n",
        "\n",
        "outliersF = fraudes[fraudes[:,coluna]  > maximums[1]]\n",
        "outliersF = outliersF[:, coluna]\n",
        "msgOutlierF_Top = \"---\"\n",
        "\n",
        "if outliersF.size > 0: msgOutlierF_Top = str(f\"{np.amax(outliersF):.4f}\")\n",
        "\n",
        "msgOutlierL = str(f\"\\nOutliers: Minimo {msgOutlierL_Bottom} e Maximo {msgOutlierL_Top}\")\n",
        "msgOutlierF = str(f\"\\nOutliers: Minimo {msgOutlierF_Bottom} e Maximo {msgOutlierF_Top}\")\n",
        "\n",
        "print(f\"Legitimo --> Mediana: {medians[0]:.4f}, Minimo da caixa: {minimums[0]}, Maximo da caixa: {maximums[0]}{msgOutlierL}\")\n",
        "print(f\"Fraude --> Mediana: {medians[1]:.4f}, Minimo da caixa: {minimums[1]}, Maximo da caixa: {maximums[1]}{msgOutlierF}\")\n",
        "\n",
        "plt.show()"
      ]
    },
    {
      "cell_type": "code",
      "execution_count": 5,
      "metadata": {
        "colab": {
          "base_uri": "https://localhost:8080/",
          "height": 503
        },
        "id": "JNg-LfSrt34o",
        "outputId": "d512790a-e2e8-4d13-e1b2-ad663a01250f"
      },
      "outputs": [
        {
          "name": "stdout",
          "output_type": "stream",
          "text": [
            "Legitimo --> Mediana: 0.0641, Minimo da caixa: -2.7, Maximo da caixa: 2.9\n",
            "Outliers: Minimo -72.7157 e Maximo 18.9025\n",
            "Fraude --> Mediana: 2.7179, Minimo da caixa: -4.0, Maximo da caixa: 10.6\n",
            "Outliers: Minimo -8.4022 e Maximo 22.0577\n"
          ]
        },
        {
          "data": {
            "image/png": "[encoded data removed]",
            "text/plain": [
              "<Figure size 432x288 with 1 Axes>"
            ]
          },
          "metadata": {
            "needs_background": "light"
          },
          "output_type": "display_data"
        }
      ],
      "source": [
        "bp = plt.boxplot([legitimos[:, colunas['A2']], fraudes[:, colunas['A2']]])\n",
        "\n",
        "coluna = 2\n",
        "\n",
        "medians = [item.get_ydata()[0] for item in bp['medians']]\n",
        "minimums = [round(item.get_ydata()[0], 1) for item in bp['caps']][::2]\n",
        "maximums = [round(item.get_ydata()[0], 1) for item in bp['caps']][1::2]\n",
        "\n",
        "outliersL = legitimos[legitimos[:, coluna] < minimums[0]]\n",
        "outliersL = outliersL[:, coluna]\n",
        "msgOutlierL_Bottom = \"---\"\n",
        "\n",
        "if outliersL.size > 0: msgOutlierL_Bottom = str(f\"{np.amin(outliersL):.4f}\")\n",
        "\n",
        "outliersL = legitimos[legitimos[:, coluna] > maximums[0]]\n",
        "outliersL = outliersL[:, coluna]\n",
        "msgOutlierL_Top = \"---\"\n",
        "\n",
        "if outliersL.size > 0: msgOutlierL_Top = str(f\"{np.amax(outliersL):.4f}\")\n",
        "\n",
        "outliersF = fraudes[fraudes[:,coluna] < minimums[1]]\n",
        "outliersF = outliersF[:, coluna]\n",
        "msgOutlierF_Bottom = \"---\"\n",
        "\n",
        "if outliersF.size > 0: msgOutlierF_Bottom = str(f\"{np.amin(outliersF):.4f}\")\n",
        "\n",
        "outliersF = fraudes[fraudes[:,coluna]  > maximums[1]]\n",
        "outliersF = outliersF[:, coluna]\n",
        "msgOutlierF_Top = \"---\"\n",
        "\n",
        "if outliersF.size > 0: msgOutlierF_Top = str(f\"{np.amax(outliersF):.4f}\")\n",
        "\n",
        "msgOutlierL = str(f\"\\nOutliers: Minimo {msgOutlierL_Bottom} e Maximo {msgOutlierL_Top}\")\n",
        "msgOutlierF = str(f\"\\nOutliers: Minimo {msgOutlierF_Bottom} e Maximo {msgOutlierF_Top}\")\n",
        "\n",
        "print(f\"Legitimo --> Mediana: {medians[0]:.4f}, Minimo da caixa: {minimums[0]}, Maximo da caixa: {maximums[0]}{msgOutlierL}\")\n",
        "print(f\"Fraude --> Mediana: {medians[1]:.4f}, Minimo da caixa: {minimums[1]}, Maximo da caixa: {maximums[1]}{msgOutlierF}\")\n",
        "\n",
        "plt.show()"
      ]
    },
    {
      "cell_type": "code",
      "execution_count": 6,
      "metadata": {
        "colab": {
          "base_uri": "https://localhost:8080/",
          "height": 499
        },
        "id": "FNYMXM6Vt_SF",
        "outputId": "6fa462d6-1c27-4005-9472-2a4e9bcfc72c"
      },
      "outputs": [
        {
          "name": "stdout",
          "output_type": "stream",
          "text": [
            "Legitimo --> Mediana: 0.1822, Minimo da caixa: -3.8, Maximo da caixa: 3.9\n",
            "Outliers: Minimo -48.3256 e Maximo 9.3826\n",
            "Fraude --> Mediana: -5.0753, Minimo da caixa: -17.9, Maximo da caixa: 2.3\n",
            "Outliers: Minimo -31.1037 e Maximo ---\n"
          ]
        },
        {
          "data": {
            "image/png": "[encoded data removed]",
            "text/plain": [
              "<Figure size 432x288 with 1 Axes>"
            ]
          },
          "metadata": {
            "needs_background": "light"
          },
          "output_type": "display_data"
        }
      ],
      "source": [
        "bp = plt.boxplot([legitimos[:, colunas['A3']], fraudes[:, colunas['A3']]])\n",
        "\n",
        "coluna = 3\n",
        "\n",
        "medians = [item.get_ydata()[0] for item in bp['medians']]\n",
        "minimums = [round(item.get_ydata()[0], 1) for item in bp['caps']][::2]\n",
        "maximums = [round(item.get_ydata()[0], 1) for item in bp['caps']][1::2]\n",
        "\n",
        "outliersL = legitimos[legitimos[:, coluna] < minimums[0]]\n",
        "outliersL = outliersL[:, coluna]\n",
        "msgOutlierL_Bottom = \"---\"\n",
        "\n",
        "if outliersL.size > 0: msgOutlierL_Bottom = str(f\"{np.amin(outliersL):.4f}\")\n",
        "\n",
        "outliersL = legitimos[legitimos[:, coluna] > maximums[0]]\n",
        "outliersL = outliersL[:, coluna]\n",
        "msgOutlierL_Top = \"---\"\n",
        "\n",
        "if outliersL.size > 0: msgOutlierL_Top = str(f\"{np.amax(outliersL):.4f}\")\n",
        "\n",
        "outliersF = fraudes[fraudes[:,coluna] < minimums[1]]\n",
        "outliersF = outliersF[:, coluna]\n",
        "msgOutlierF_Bottom = \"---\"\n",
        "\n",
        "if outliersF.size > 0: msgOutlierF_Bottom = str(f\"{np.amin(outliersF):.4f}\")\n",
        "\n",
        "outliersF = fraudes[fraudes[:,coluna]  > maximums[1]]\n",
        "outliersF = outliersF[:, coluna]\n",
        "msgOutlierF_Top = \"---\"\n",
        "\n",
        "if outliersF.size > 0: msgOutlierF_Top = str(f\"{np.amax(outliersF):.4f}\")\n",
        "\n",
        "msgOutlierL = str(f\"\\nOutliers: Minimo {msgOutlierL_Bottom} e Maximo {msgOutlierL_Top}\")\n",
        "msgOutlierF = str(f\"\\nOutliers: Minimo {msgOutlierF_Bottom} e Maximo {msgOutlierF_Top}\")\n",
        "\n",
        "print(f\"Legitimo --> Mediana: {medians[0]:.4f}, Minimo da caixa: {minimums[0]}, Maximo da caixa: {maximums[0]}{msgOutlierL}\")\n",
        "print(f\"Fraude --> Mediana: {medians[1]:.4f}, Minimo da caixa: {minimums[1]}, Maximo da caixa: {maximums[1]}{msgOutlierF}\")\n",
        "\n",
        "plt.show()"
      ]
    },
    {
      "cell_type": "code",
      "execution_count": 7,
      "metadata": {
        "colab": {
          "base_uri": "https://localhost:8080/",
          "height": 499
        },
        "id": "zFN-XBiRuDsp",
        "outputId": "c4f71e4d-2f14-44c9-c282-0c683e0a9c27"
      },
      "outputs": [
        {
          "name": "stdout",
          "output_type": "stream",
          "text": [
            "Legitimo --> Mediana: -0.0224, Minimo da caixa: -3.2, Maximo da caixa: 3.1\n",
            "Outliers: Minimo -5.6832 e Maximo 16.8753\n",
            "Fraude --> Mediana: 4.1771, Minimo da caixa: -1.3, Maximo da caixa: 12.1\n",
            "Outliers: Minimo -1.3133 e Maximo 12.1147\n"
          ]
        },
        {
          "data": {
            "image/png": "[encoded data removed]",
            "text/plain": [
              "<Figure size 432x288 with 1 Axes>"
            ]
          },
          "metadata": {
            "needs_background": "light"
          },
          "output_type": "display_data"
        }
      ],
      "source": [
        "bp = plt.boxplot([legitimos[:, colunas['A4']], fraudes[:, colunas['A4']]])\n",
        "\n",
        "coluna = 4\n",
        "\n",
        "medians = [item.get_ydata()[0] for item in bp['medians']]\n",
        "minimums = [round(item.get_ydata()[0], 1) for item in bp['caps']][::2]\n",
        "maximums = [round(item.get_ydata()[0], 1) for item in bp['caps']][1::2]\n",
        "\n",
        "outliersL = legitimos[legitimos[:, coluna] < minimums[0]]\n",
        "outliersL = outliersL[:, coluna]\n",
        "msgOutlierL_Bottom = \"---\"\n",
        "\n",
        "if outliersL.size > 0: msgOutlierL_Bottom = str(f\"{np.amin(outliersL):.4f}\")\n",
        "\n",
        "outliersL = legitimos[legitimos[:, coluna] > maximums[0]]\n",
        "outliersL = outliersL[:, coluna]\n",
        "msgOutlierL_Top = \"---\"\n",
        "\n",
        "if outliersL.size > 0: msgOutlierL_Top = str(f\"{np.amax(outliersL):.4f}\")\n",
        "\n",
        "outliersF = fraudes[fraudes[:,coluna] < minimums[1]]\n",
        "outliersF = outliersF[:, coluna]\n",
        "msgOutlierF_Bottom = \"---\"\n",
        "\n",
        "if outliersF.size > 0: msgOutlierF_Bottom = str(f\"{np.amin(outliersF):.4f}\")\n",
        "\n",
        "outliersF = fraudes[fraudes[:,coluna]  > maximums[1]]\n",
        "outliersF = outliersF[:, coluna]\n",
        "msgOutlierF_Top = \"---\"\n",
        "\n",
        "if outliersF.size > 0: msgOutlierF_Top = str(f\"{np.amax(outliersF):.4f}\")\n",
        "\n",
        "msgOutlierL = str(f\"\\nOutliers: Minimo {msgOutlierL_Bottom} e Maximo {msgOutlierL_Top}\")\n",
        "msgOutlierF = str(f\"\\nOutliers: Minimo {msgOutlierF_Bottom} e Maximo {msgOutlierF_Top}\")\n",
        "\n",
        "print(f\"Legitimo --> Mediana: {medians[0]:.4f}, Minimo da caixa: {minimums[0]}, Maximo da caixa: {maximums[0]}{msgOutlierL}\")\n",
        "print(f\"Fraude --> Mediana: {medians[1]:.4f}, Minimo da caixa: {minimums[1]}, Maximo da caixa: {maximums[1]}{msgOutlierF}\")\n",
        "\n",
        "plt.show()"
      ]
    },
    {
      "cell_type": "code",
      "execution_count": 8,
      "metadata": {
        "colab": {
          "base_uri": "https://localhost:8080/",
          "height": 499
        },
        "id": "A5XKpJjwuF19",
        "outputId": "fd0f8935-e3e8-4557-acc5-e550d6643615"
      },
      "outputs": [
        {
          "name": "stdout",
          "output_type": "stream",
          "text": [
            "Legitimo --> Mediana: -0.0535, Minimo da caixa: -2.6, Maximo da caixa: 2.6\n",
            "Outliers: Minimo -113.7433 e Maximo 34.8017\n",
            "Fraude --> Mediana: -1.5230, Minimo da caixa: -11.9, Maximo da caixa: 6.2\n",
            "Outliers: Minimo -22.1055 e Maximo 11.0951\n"
          ]
        },
        {
          "data": {
            "image/png": "[encoded data removed]",
            "text/plain": [
              "<Figure size 432x288 with 1 Axes>"
            ]
          },
          "metadata": {
            "needs_background": "light"
          },
          "output_type": "display_data"
        }
      ],
      "source": [
        "bp = plt.boxplot([legitimos[:, colunas['A5']], fraudes[:, colunas['A5']]])\n",
        "\n",
        "coluna = 5\n",
        "\n",
        "medians = [item.get_ydata()[0] for item in bp['medians']]\n",
        "minimums = [round(item.get_ydata()[0], 1) for item in bp['caps']][::2]\n",
        "maximums = [round(item.get_ydata()[0], 1) for item in bp['caps']][1::2]\n",
        "\n",
        "outliersL = legitimos[legitimos[:, coluna] < minimums[0]]\n",
        "outliersL = outliersL[:, coluna]\n",
        "msgOutlierL_Bottom = \"---\"\n",
        "\n",
        "if outliersL.size > 0: msgOutlierL_Bottom = str(f\"{np.amin(outliersL):.4f}\")\n",
        "\n",
        "outliersL = legitimos[legitimos[:, coluna] > maximums[0]]\n",
        "outliersL = outliersL[:, coluna]\n",
        "msgOutlierL_Top = \"---\"\n",
        "\n",
        "if outliersL.size > 0: msgOutlierL_Top = str(f\"{np.amax(outliersL):.4f}\")\n",
        "\n",
        "outliersF = fraudes[fraudes[:,coluna] < minimums[1]]\n",
        "outliersF = outliersF[:, coluna]\n",
        "msgOutlierF_Bottom = \"---\"\n",
        "\n",
        "if outliersF.size > 0: msgOutlierF_Bottom = str(f\"{np.amin(outliersF):.4f}\")\n",
        "\n",
        "outliersF = fraudes[fraudes[:,coluna]  > maximums[1]]\n",
        "outliersF = outliersF[:, coluna]\n",
        "msgOutlierF_Top = \"---\"\n",
        "\n",
        "if outliersF.size > 0: msgOutlierF_Top = str(f\"{np.amax(outliersF):.4f}\")\n",
        "\n",
        "msgOutlierL = str(f\"\\nOutliers: Minimo {msgOutlierL_Bottom} e Maximo {msgOutlierL_Top}\")\n",
        "msgOutlierF = str(f\"\\nOutliers: Minimo {msgOutlierF_Bottom} e Maximo {msgOutlierF_Top}\")\n",
        "\n",
        "print(f\"Legitimo --> Mediana: {medians[0]:.4f}, Minimo da caixa: {minimums[0]}, Maximo da caixa: {maximums[0]}{msgOutlierL}\")\n",
        "print(f\"Fraude --> Mediana: {medians[1]:.4f}, Minimo da caixa: {minimums[1]}, Maximo da caixa: {maximums[1]}{msgOutlierF}\")\n",
        "\n",
        "plt.show()"
      ]
    },
    {
      "cell_type": "code",
      "execution_count": 9,
      "metadata": {
        "colab": {
          "base_uri": "https://localhost:8080/",
          "height": 499
        },
        "id": "DY-sUbu9uHqb",
        "outputId": "69cc5edf-db1d-4fa4-9fdb-84045838dd05"
      },
      "outputs": [
        {
          "name": "stdout",
          "output_type": "stream",
          "text": [
            "Legitimo --> Mediana: -0.2731, Minimo da caixa: -2.5, Maximo da caixa: 2.1\n",
            "Outliers: Minimo -26.1605 e Maximo 73.3016\n",
            "Fraude --> Mediana: -1.4246, Minimo da caixa: -5.6, Maximo da caixa: 2.6\n",
            "Outliers: Minimo -6.4063 e Maximo 6.4741\n"
          ]
        },
        {
          "data": {
            "image/png": "[encoded data removed]",
            "text/plain": [
              "<Figure size 432x288 with 1 Axes>"
            ]
          },
          "metadata": {
            "needs_background": "light"
          },
          "output_type": "display_data"
        }
      ],
      "source": [
        "bp = plt.boxplot([legitimos[:, colunas['A6']], fraudes[:, colunas['A6']]])\n",
        "\n",
        "coluna = 6\n",
        "\n",
        "medians = [item.get_ydata()[0] for item in bp['medians']]\n",
        "minimums = [round(item.get_ydata()[0], 1) for item in bp['caps']][::2]\n",
        "maximums = [round(item.get_ydata()[0], 1) for item in bp['caps']][1::2]\n",
        "\n",
        "outliersL = legitimos[legitimos[:, coluna] < minimums[0]]\n",
        "outliersL = outliersL[:, coluna]\n",
        "msgOutlierL_Bottom = \"---\"\n",
        "\n",
        "if outliersL.size > 0: msgOutlierL_Bottom = str(f\"{np.amin(outliersL):.4f}\")\n",
        "\n",
        "outliersL = legitimos[legitimos[:, coluna] > maximums[0]]\n",
        "outliersL = outliersL[:, coluna]\n",
        "msgOutlierL_Top = \"---\"\n",
        "\n",
        "if outliersL.size > 0: msgOutlierL_Top = str(f\"{np.amax(outliersL):.4f}\")\n",
        "\n",
        "outliersF = fraudes[fraudes[:,coluna] < minimums[1]]\n",
        "outliersF = outliersF[:, coluna]\n",
        "msgOutlierF_Bottom = \"---\"\n",
        "\n",
        "if outliersF.size > 0: msgOutlierF_Bottom = str(f\"{np.amin(outliersF):.4f}\")\n",
        "\n",
        "outliersF = fraudes[fraudes[:,coluna]  > maximums[1]]\n",
        "outliersF = outliersF[:, coluna]\n",
        "msgOutlierF_Top = \"---\"\n",
        "\n",
        "if outliersF.size > 0: msgOutlierF_Top = str(f\"{np.amax(outliersF):.4f}\")\n",
        "\n",
        "msgOutlierL = str(f\"\\nOutliers: Minimo {msgOutlierL_Bottom} e Maximo {msgOutlierL_Top}\")\n",
        "msgOutlierF = str(f\"\\nOutliers: Minimo {msgOutlierF_Bottom} e Maximo {msgOutlierF_Top}\")\n",
        "\n",
        "print(f\"Legitimo --> Mediana: {medians[0]:.4f}, Minimo da caixa: {minimums[0]}, Maximo da caixa: {maximums[0]}{msgOutlierL}\")\n",
        "print(f\"Fraude --> Mediana: {medians[1]:.4f}, Minimo da caixa: {minimums[1]}, Maximo da caixa: {maximums[1]}{msgOutlierF}\")\n",
        "\n",
        "plt.show()"
      ]
    },
    {
      "cell_type": "code",
      "execution_count": 28,
      "metadata": {
        "colab": {
          "base_uri": "https://localhost:8080/",
          "height": 499
        },
        "id": "4OdFf6ETuJsy",
        "outputId": "cc071b42-6c79-436c-8ec0-f9a3b02f90e0"
      },
      "outputs": [
        {
          "name": "stdout",
          "output_type": "stream",
          "text": [
            "Legitimo --> Mediana: 0.0411, Minimo da caixa: -2.2, Maximo da caixa: 2.3\n",
            "Outliers: Minimo -31.7649 e Maximo 120.5895\n",
            "Fraude --> Mediana: -3.0344, Minimo da caixa: -18.3, Maximo da caixa: 5.8\n",
            "Outliers: Minimo -43.5572 e Maximo 5.8025\n"
          ]
        },
        {
          "data": {
            "image/png": "[encoded data removed]",
            "text/plain": [
              "<Figure size 640x480 with 1 Axes>"
            ]
          },
          "metadata": {},
          "output_type": "display_data"
        }
      ],
      "source": [
        "bp = plt.boxplot([legitimos[:, colunas['A7']], fraudes[:, colunas['A7']]])\n",
        "\n",
        "coluna = 7\n",
        "\n",
        "medians = [item.get_ydata()[0] for item in bp['medians']]\n",
        "minimums = [round(item.get_ydata()[0], 1) for item in bp['caps']][::2]\n",
        "maximums = [round(item.get_ydata()[0], 1) for item in bp['caps']][1::2]\n",
        "\n",
        "outliersL = legitimos[legitimos[:, coluna] < minimums[0]]\n",
        "outliersL = outliersL[:, coluna]\n",
        "msgOutlierL_Bottom = \"---\"\n",
        "\n",
        "if outliersL.size > 0: msgOutlierL_Bottom = str(f\"{np.amin(outliersL):.4f}\")\n",
        "\n",
        "outliersL = legitimos[legitimos[:, coluna] > maximums[0]]\n",
        "outliersL = outliersL[:, coluna]\n",
        "msgOutlierL_Top = \"---\"\n",
        "\n",
        "if outliersL.size > 0: msgOutlierL_Top = str(f\"{np.amax(outliersL):.4f}\")\n",
        "\n",
        "outliersF = fraudes[fraudes[:,coluna] < minimums[1]]\n",
        "outliersF = outliersF[:, coluna]\n",
        "msgOutlierF_Bottom = \"---\"\n",
        "\n",
        "if outliersF.size > 0: msgOutlierF_Bottom = str(f\"{np.amin(outliersF):.4f}\")\n",
        "\n",
        "outliersF = fraudes[fraudes[:,coluna]  > maximums[1]]\n",
        "outliersF = outliersF[:, coluna]\n",
        "msgOutlierF_Top = \"---\"\n",
        "\n",
        "if outliersF.size > 0: msgOutlierF_Top = str(f\"{np.amax(outliersF):.4f}\")\n",
        "\n",
        "msgOutlierL = str(f\"\\nOutliers: Minimo {msgOutlierL_Bottom} e Maximo {msgOutlierL_Top}\")\n",
        "msgOutlierF = str(f\"\\nOutliers: Minimo {msgOutlierF_Bottom} e Maximo {msgOutlierF_Top}\")\n",
        "\n",
        "print(f\"Legitimo --> Mediana: {medians[0]:.4f}, Minimo da caixa: {minimums[0]}, Maximo da caixa: {maximums[0]}{msgOutlierL}\")\n",
        "print(f\"Fraude --> Mediana: {medians[1]:.4f}, Minimo da caixa: {minimums[1]}, Maximo da caixa: {maximums[1]}{msgOutlierF}\")\n",
        "\n",
        "plt.show()"
      ]
    },
    {
      "cell_type": "code",
      "execution_count": 29,
      "metadata": {
        "colab": {
          "base_uri": "https://localhost:8080/",
          "height": 499
        },
        "id": "3LbJp3aNuUjy",
        "outputId": "12654b65-d6f2-49d3-fc76-d67d3b13d274"
      },
      "outputs": [
        {
          "name": "stdout",
          "output_type": "stream",
          "text": [
            "Legitimo --> Mediana: 0.0220, Minimo da caixa: -1.0, Maximo da caixa: 1.1\n",
            "Outliers: Minimo -73.2167 e Maximo 18.7093\n",
            "Fraude --> Mediana: 0.6215, Minimo da caixa: -3.0, Maximo da caixa: 4.6\n",
            "Outliers: Minimo -41.0443 e Maximo 20.0072\n"
          ]
        },
        {
          "data": {
            "image/png": "[encoded data removed]",
            "text/plain": [
              "<Figure size 640x480 with 1 Axes>"
            ]
          },
          "metadata": {},
          "output_type": "display_data"
        }
      ],
      "source": [
        "bp = plt.boxplot([legitimos[:, colunas['A8']], fraudes[:, colunas['A8']]])\n",
        "\n",
        "coluna = 8\n",
        "\n",
        "medians = [item.get_ydata()[0] for item in bp['medians']]\n",
        "minimums = [round(item.get_ydata()[0], 1) for item in bp['caps']][::2]\n",
        "maximums = [round(item.get_ydata()[0], 1) for item in bp['caps']][1::2]\n",
        "\n",
        "outliersL = legitimos[legitimos[:, coluna] < minimums[0]]\n",
        "outliersL = outliersL[:, coluna]\n",
        "msgOutlierL_Bottom = \"---\"\n",
        "\n",
        "if outliersL.size > 0: msgOutlierL_Bottom = str(f\"{np.amin(outliersL):.4f}\")\n",
        "\n",
        "outliersL = legitimos[legitimos[:, coluna] > maximums[0]]\n",
        "outliersL = outliersL[:, coluna]\n",
        "msgOutlierL_Top = \"---\"\n",
        "\n",
        "if outliersL.size > 0: msgOutlierL_Top = str(f\"{np.amax(outliersL):.4f}\")\n",
        "\n",
        "outliersF = fraudes[fraudes[:,coluna] < minimums[1]]\n",
        "outliersF = outliersF[:, coluna]\n",
        "msgOutlierF_Bottom = \"---\"\n",
        "\n",
        "if outliersF.size > 0: msgOutlierF_Bottom = str(f\"{np.amin(outliersF):.4f}\")\n",
        "\n",
        "outliersF = fraudes[fraudes[:,coluna]  > maximums[1]]\n",
        "outliersF = outliersF[:, coluna]\n",
        "msgOutlierF_Top = \"---\"\n",
        "\n",
        "if outliersF.size > 0: msgOutlierF_Top = str(f\"{np.amax(outliersF):.4f}\")\n",
        "\n",
        "msgOutlierL = str(f\"\\nOutliers: Minimo {msgOutlierL_Bottom} e Maximo {msgOutlierL_Top}\")\n",
        "msgOutlierF = str(f\"\\nOutliers: Minimo {msgOutlierF_Bottom} e Maximo {msgOutlierF_Top}\")\n",
        "\n",
        "print(f\"Legitimo --> Mediana: {medians[0]:.4f}, Minimo da caixa: {minimums[0]}, Maximo da caixa: {maximums[0]}{msgOutlierL}\")\n",
        "print(f\"Fraude --> Mediana: {medians[1]:.4f}, Minimo da caixa: {minimums[1]}, Maximo da caixa: {maximums[1]}{msgOutlierF}\")\n",
        "\n",
        "plt.show()"
      ]
    },
    {
      "cell_type": "code",
      "execution_count": 30,
      "metadata": {
        "colab": {
          "base_uri": "https://localhost:8080/",
          "height": 499
        },
        "id": "iMXCMhZ4uXZ7",
        "outputId": "012c8045-fc02-4327-b794-5fbdb19677ff"
      },
      "outputs": [
        {
          "name": "stdout",
          "output_type": "stream",
          "text": [
            "Legitimo --> Mediana: -0.0500, Minimo da caixa: -2.5, Maximo da caixa: 2.5\n",
            "Outliers: Minimo -6.2907 e Maximo 15.5950\n",
            "Fraude --> Mediana: -2.2088, Minimo da caixa: -8.1, Maximo da caixa: 3.4\n",
            "Outliers: Minimo -13.4341 e Maximo ---\n"
          ]
        },
        {
          "data": {
            "image/png": "[encoded data removed]",
            "text/plain": [
              "<Figure size 640x480 with 1 Axes>"
            ]
          },
          "metadata": {},
          "output_type": "display_data"
        }
      ],
      "source": [
        "bp = plt.boxplot([legitimos[:, colunas['A9']], fraudes[:, colunas['A9']]])\n",
        "\n",
        "coluna = 9\n",
        "\n",
        "medians = [item.get_ydata()[0] for item in bp['medians']]\n",
        "minimums = [round(item.get_ydata()[0], 1) for item in bp['caps']][::2]\n",
        "maximums = [round(item.get_ydata()[0], 1) for item in bp['caps']][1::2]\n",
        "\n",
        "outliersL = legitimos[legitimos[:, coluna] < minimums[0]]\n",
        "outliersL = outliersL[:, coluna]\n",
        "msgOutlierL_Bottom = \"---\"\n",
        "\n",
        "if outliersL.size > 0: msgOutlierL_Bottom = str(f\"{np.amin(outliersL):.4f}\")\n",
        "\n",
        "outliersL = legitimos[legitimos[:, coluna] > maximums[0]]\n",
        "outliersL = outliersL[:, coluna]\n",
        "msgOutlierL_Top = \"---\"\n",
        "\n",
        "if outliersL.size > 0: msgOutlierL_Top = str(f\"{np.amax(outliersL):.4f}\")\n",
        "\n",
        "outliersF = fraudes[fraudes[:,coluna] < minimums[1]]\n",
        "outliersF = outliersF[:, coluna]\n",
        "msgOutlierF_Bottom = \"---\"\n",
        "\n",
        "if outliersF.size > 0: msgOutlierF_Bottom = str(f\"{np.amin(outliersF):.4f}\")\n",
        "\n",
        "outliersF = fraudes[fraudes[:,coluna]  > maximums[1]]\n",
        "outliersF = outliersF[:, coluna]\n",
        "msgOutlierF_Top = \"---\"\n",
        "\n",
        "if outliersF.size > 0: msgOutlierF_Top = str(f\"{np.amax(outliersF):.4f}\")\n",
        "\n",
        "msgOutlierL = str(f\"\\nOutliers: Minimo {msgOutlierL_Bottom} e Maximo {msgOutlierL_Top}\")\n",
        "msgOutlierF = str(f\"\\nOutliers: Minimo {msgOutlierF_Bottom} e Maximo {msgOutlierF_Top}\")\n",
        "\n",
        "print(f\"Legitimo --> Mediana: {medians[0]:.4f}, Minimo da caixa: {minimums[0]}, Maximo da caixa: {maximums[0]}{msgOutlierL}\")\n",
        "print(f\"Fraude --> Mediana: {medians[1]:.4f}, Minimo da caixa: {minimums[1]}, Maximo da caixa: {maximums[1]}{msgOutlierF}\")\n",
        "\n",
        "plt.show()"
      ]
    },
    {
      "cell_type": "code",
      "execution_count": 31,
      "metadata": {
        "colab": {
          "base_uri": "https://localhost:8080/",
          "height": 499
        },
        "id": "URzGyTsFuaUE",
        "outputId": "56f5e330-3423-45c7-c1cc-8b0c5eed640d"
      },
      "outputs": [
        {
          "name": "stdout",
          "output_type": "stream",
          "text": [
            "Legitimo --> Mediana: -0.0919, Minimo da caixa: -2.0, Maximo da caixa: 1.9\n",
            "Outliers: Minimo -14.7411 e Maximo 23.7451\n",
            "Fraude --> Mediana: -4.5788, Minimo da caixa: -15.3, Maximo da caixa: 4.0\n",
            "Outliers: Minimo -24.5883 e Maximo 4.0314\n"
          ]
        },
        {
          "data": {
            "image/png": "[encoded data removed]",
            "text/plain": [
              "<Figure size 640x480 with 1 Axes>"
            ]
          },
          "metadata": {},
          "output_type": "display_data"
        }
      ],
      "source": [
        "bp = plt.boxplot([legitimos[:, colunas['A10']], fraudes[:, colunas['A10']]])\n",
        "\n",
        "coluna = 10\n",
        "\n",
        "medians = [item.get_ydata()[0] for item in bp['medians']]\n",
        "minimums = [round(item.get_ydata()[0], 1) for item in bp['caps']][::2]\n",
        "maximums = [round(item.get_ydata()[0], 1) for item in bp['caps']][1::2]\n",
        "\n",
        "outliersL = legitimos[legitimos[:, coluna] < minimums[0]]\n",
        "outliersL = outliersL[:, coluna]\n",
        "msgOutlierL_Bottom = \"---\"\n",
        "\n",
        "if outliersL.size > 0: msgOutlierL_Bottom = str(f\"{np.amin(outliersL):.4f}\")\n",
        "\n",
        "outliersL = legitimos[legitimos[:, coluna] > maximums[0]]\n",
        "outliersL = outliersL[:, coluna]\n",
        "msgOutlierL_Top = \"---\"\n",
        "\n",
        "if outliersL.size > 0: msgOutlierL_Top = str(f\"{np.amax(outliersL):.4f}\")\n",
        "\n",
        "outliersF = fraudes[fraudes[:,coluna] < minimums[1]]\n",
        "outliersF = outliersF[:, coluna]\n",
        "msgOutlierF_Bottom = \"---\"\n",
        "\n",
        "if outliersF.size > 0: msgOutlierF_Bottom = str(f\"{np.amin(outliersF):.4f}\")\n",
        "\n",
        "outliersF = fraudes[fraudes[:,coluna]  > maximums[1]]\n",
        "outliersF = outliersF[:, coluna]\n",
        "msgOutlierF_Top = \"---\"\n",
        "\n",
        "if outliersF.size > 0: msgOutlierF_Top = str(f\"{np.amax(outliersF):.4f}\")\n",
        "\n",
        "msgOutlierL = str(f\"\\nOutliers: Minimo {msgOutlierL_Bottom} e Maximo {msgOutlierL_Top}\")\n",
        "msgOutlierF = str(f\"\\nOutliers: Minimo {msgOutlierF_Bottom} e Maximo {msgOutlierF_Top}\")\n",
        "\n",
        "print(f\"Legitimo --> Mediana: {medians[0]:.4f}, Minimo da caixa: {minimums[0]}, Maximo da caixa: {maximums[0]}{msgOutlierL}\")\n",
        "print(f\"Fraude --> Mediana: {medians[1]:.4f}, Minimo da caixa: {minimums[1]}, Maximo da caixa: {maximums[1]}{msgOutlierF}\")\n",
        "\n",
        "plt.show()"
      ]
    },
    {
      "cell_type": "code",
      "execution_count": 32,
      "metadata": {
        "colab": {
          "base_uri": "https://localhost:8080/",
          "height": 499
        },
        "id": "8zZi4H0Jucb2",
        "outputId": "72d80d98-a708-42fa-ebc4-c7248a76bfac"
      },
      "outputs": [
        {
          "name": "stdout",
          "output_type": "stream",
          "text": [
            "Legitimo --> Mediana: -0.0349, Minimo da caixa: -3.0, Maximo da caixa: 3.0\n",
            "Outliers: Minimo -4.7975 e Maximo 10.0022\n",
            "Fraude --> Mediana: 3.5862, Minimo da caixa: -1.7, Maximo da caixa: 10.3\n",
            "Outliers: Minimo -1.7022 e Maximo 12.0189\n"
          ]
        },
        {
          "data": {
            "image/png": "[encoded data removed]",
            "text/plain": [
              "<Figure size 640x480 with 1 Axes>"
            ]
          },
          "metadata": {},
          "output_type": "display_data"
        }
      ],
      "source": [
        "bp = plt.boxplot([legitimos[:, colunas['A11']], fraudes[:, colunas['A11']]])\n",
        "\n",
        "coluna = 11\n",
        "\n",
        "medians = [item.get_ydata()[0] for item in bp['medians']]\n",
        "minimums = [round(item.get_ydata()[0], 1) for item in bp['caps']][::2]\n",
        "maximums = [round(item.get_ydata()[0], 1) for item in bp['caps']][1::2]\n",
        "\n",
        "outliersL = legitimos[legitimos[:, coluna] < minimums[0]]\n",
        "outliersL = outliersL[:, coluna]\n",
        "msgOutlierL_Bottom = \"---\"\n",
        "\n",
        "if outliersL.size > 0: msgOutlierL_Bottom = str(f\"{np.amin(outliersL):.4f}\")\n",
        "\n",
        "outliersL = legitimos[legitimos[:, coluna] > maximums[0]]\n",
        "outliersL = outliersL[:, coluna]\n",
        "msgOutlierL_Top = \"---\"\n",
        "\n",
        "if outliersL.size > 0: msgOutlierL_Top = str(f\"{np.amax(outliersL):.4f}\")\n",
        "\n",
        "outliersF = fraudes[fraudes[:,coluna] < minimums[1]]\n",
        "outliersF = outliersF[:, coluna]\n",
        "msgOutlierF_Bottom = \"---\"\n",
        "\n",
        "if outliersF.size > 0: msgOutlierF_Bottom = str(f\"{np.amin(outliersF):.4f}\")\n",
        "\n",
        "outliersF = fraudes[fraudes[:,coluna]  > maximums[1]]\n",
        "outliersF = outliersF[:, coluna]\n",
        "msgOutlierF_Top = \"---\"\n",
        "\n",
        "if outliersF.size > 0: msgOutlierF_Top = str(f\"{np.amax(outliersF):.4f}\")\n",
        "\n",
        "msgOutlierL = str(f\"\\nOutliers: Minimo {msgOutlierL_Bottom} e Maximo {msgOutlierL_Top}\")\n",
        "msgOutlierF = str(f\"\\nOutliers: Minimo {msgOutlierF_Bottom} e Maximo {msgOutlierF_Top}\")\n",
        "\n",
        "print(f\"Legitimo --> Mediana: {medians[0]:.4f}, Minimo da caixa: {minimums[0]}, Maximo da caixa: {maximums[0]}{msgOutlierL}\")\n",
        "print(f\"Fraude --> Mediana: {medians[1]:.4f}, Minimo da caixa: {minimums[1]}, Maximo da caixa: {maximums[1]}{msgOutlierF}\")\n",
        "\n",
        "plt.show()"
      ]
    },
    {
      "cell_type": "code",
      "execution_count": 33,
      "metadata": {
        "colab": {
          "base_uri": "https://localhost:8080/",
          "height": 499
        },
        "id": "xmQ0i1HNueKr",
        "outputId": "ad1efadf-727c-48e2-985f-15cf1f52114a"
      },
      "outputs": [
        {
          "name": "stdout",
          "output_type": "stream",
          "text": [
            "Legitimo --> Mediana: 0.1417, Minimo da caixa: -1.9, Maximo da caixa: 2.2\n",
            "Outliers: Minimo -15.1450 e Maximo 7.8484\n",
            "Fraude --> Mediana: -5.5025, Minimo da caixa: -17.2, Maximo da caixa: 1.4\n",
            "Outliers: Minimo -18.6837 e Maximo ---\n"
          ]
        },
        {
          "data": {
            "image/png": "[encoded data removed]",
            "text/plain": [
              "<Figure size 640x480 with 1 Axes>"
            ]
          },
          "metadata": {},
          "output_type": "display_data"
        }
      ],
      "source": [
        "bp = plt.boxplot([legitimos[:, colunas['A12']], fraudes[:, colunas['A12']]])\n",
        "\n",
        "coluna = 12\n",
        "\n",
        "medians = [item.get_ydata()[0] for item in bp['medians']]\n",
        "minimums = [round(item.get_ydata()[0], 1) for item in bp['caps']][::2]\n",
        "maximums = [round(item.get_ydata()[0], 1) for item in bp['caps']][1::2]\n",
        "\n",
        "outliersL = legitimos[legitimos[:, coluna] < minimums[0]]\n",
        "outliersL = outliersL[:, coluna]\n",
        "msgOutlierL_Bottom = \"---\"\n",
        "\n",
        "if outliersL.size > 0: msgOutlierL_Bottom = str(f\"{np.amin(outliersL):.4f}\")\n",
        "\n",
        "outliersL = legitimos[legitimos[:, coluna] > maximums[0]]\n",
        "outliersL = outliersL[:, coluna]\n",
        "msgOutlierL_Top = \"---\"\n",
        "\n",
        "if outliersL.size > 0: msgOutlierL_Top = str(f\"{np.amax(outliersL):.4f}\")\n",
        "\n",
        "outliersF = fraudes[fraudes[:,coluna] < minimums[1]]\n",
        "outliersF = outliersF[:, coluna]\n",
        "msgOutlierF_Bottom = \"---\"\n",
        "\n",
        "if outliersF.size > 0: msgOutlierF_Bottom = str(f\"{np.amin(outliersF):.4f}\")\n",
        "\n",
        "outliersF = fraudes[fraudes[:,coluna]  > maximums[1]]\n",
        "outliersF = outliersF[:, coluna]\n",
        "msgOutlierF_Top = \"---\"\n",
        "\n",
        "if outliersF.size > 0: msgOutlierF_Top = str(f\"{np.amax(outliersF):.4f}\")\n",
        "\n",
        "msgOutlierL = str(f\"\\nOutliers: Minimo {msgOutlierL_Bottom} e Maximo {msgOutlierL_Top}\")\n",
        "msgOutlierF = str(f\"\\nOutliers: Minimo {msgOutlierF_Bottom} e Maximo {msgOutlierF_Top}\")\n",
        "\n",
        "print(f\"Legitimo --> Mediana: {medians[0]:.4f}, Minimo da caixa: {minimums[0]}, Maximo da caixa: {maximums[0]}{msgOutlierL}\")\n",
        "print(f\"Fraude --> Mediana: {medians[1]:.4f}, Minimo da caixa: {minimums[1]}, Maximo da caixa: {maximums[1]}{msgOutlierF}\")\n",
        "\n",
        "plt.show()"
      ]
    },
    {
      "cell_type": "code",
      "execution_count": 34,
      "metadata": {
        "colab": {
          "base_uri": "https://localhost:8080/",
          "height": 499
        },
        "id": "DWtqYFx4uffO",
        "outputId": "3a40cd9e-a3fa-452c-ab9b-5baa90e85619"
      },
      "outputs": [
        {
          "name": "stdout",
          "output_type": "stream",
          "text": [
            "Legitimo --> Mediana: -0.0135, Minimo da caixa: -2.6, Maximo da caixa: 2.6\n",
            "Outliers: Minimo -5.7919 e Maximo 7.1269\n",
            "Fraude --> Mediana: -0.0656, Minimo da caixa: -3.1, Maximo da caixa: 2.8\n",
            "Outliers: Minimo -3.1278 e Maximo 2.8154\n"
          ]
        },
        {
          "data": {
            "image/png": "[encoded data removed]",
            "text/plain": [
              "<Figure size 640x480 with 1 Axes>"
            ]
          },
          "metadata": {},
          "output_type": "display_data"
        }
      ],
      "source": [
        "bp = plt.boxplot([legitimos[:, colunas['A13']], fraudes[:, colunas['A13']]])\n",
        "\n",
        "coluna = 13\n",
        "\n",
        "medians = [item.get_ydata()[0] for item in bp['medians']]\n",
        "minimums = [round(item.get_ydata()[0], 1) for item in bp['caps']][::2]\n",
        "maximums = [round(item.get_ydata()[0], 1) for item in bp['caps']][1::2]\n",
        "\n",
        "outliersL = legitimos[legitimos[:, coluna] < minimums[0]]\n",
        "outliersL = outliersL[:, coluna]\n",
        "msgOutlierL_Bottom = \"---\"\n",
        "\n",
        "if outliersL.size > 0: msgOutlierL_Bottom = str(f\"{np.amin(outliersL):.4f}\")\n",
        "\n",
        "outliersL = legitimos[legitimos[:, coluna] > maximums[0]]\n",
        "outliersL = outliersL[:, coluna]\n",
        "msgOutlierL_Top = \"---\"\n",
        "\n",
        "if outliersL.size > 0: msgOutlierL_Top = str(f\"{np.amax(outliersL):.4f}\")\n",
        "\n",
        "outliersF = fraudes[fraudes[:,coluna] < minimums[1]]\n",
        "outliersF = outliersF[:, coluna]\n",
        "msgOutlierF_Bottom = \"---\"\n",
        "\n",
        "if outliersF.size > 0: msgOutlierF_Bottom = str(f\"{np.amin(outliersF):.4f}\")\n",
        "\n",
        "outliersF = fraudes[fraudes[:,coluna]  > maximums[1]]\n",
        "outliersF = outliersF[:, coluna]\n",
        "msgOutlierF_Top = \"---\"\n",
        "\n",
        "if outliersF.size > 0: msgOutlierF_Top = str(f\"{np.amax(outliersF):.4f}\")\n",
        "\n",
        "msgOutlierL = str(f\"\\nOutliers: Minimo {msgOutlierL_Bottom} e Maximo {msgOutlierL_Top}\")\n",
        "msgOutlierF = str(f\"\\nOutliers: Minimo {msgOutlierF_Bottom} e Maximo {msgOutlierF_Top}\")\n",
        "\n",
        "print(f\"Legitimo --> Mediana: {medians[0]:.4f}, Minimo da caixa: {minimums[0]}, Maximo da caixa: {maximums[0]}{msgOutlierL}\")\n",
        "print(f\"Fraude --> Mediana: {medians[1]:.4f}, Minimo da caixa: {minimums[1]}, Maximo da caixa: {maximums[1]}{msgOutlierF}\")\n",
        "\n",
        "plt.show()"
      ]
    },
    {
      "cell_type": "code",
      "execution_count": 35,
      "metadata": {
        "colab": {
          "base_uri": "https://localhost:8080/",
          "height": 499
        },
        "id": "Xlbf81wvuhap",
        "outputId": "dc8d4c43-0300-4417-de08-1fdca651c977"
      },
      "outputs": [
        {
          "name": "stdout",
          "output_type": "stream",
          "text": [
            "Legitimo --> Mediana: 0.0519, Minimo da caixa: -1.8, Maximo da caixa: 1.9\n",
            "Outliers: Minimo -18.3921 e Maximo 10.5268\n",
            "Fraude --> Mediana: -6.7297, Minimo da caixa: -17.7, Maximo da caixa: 3.4\n",
            "Outliers: Minimo -19.2143 e Maximo 3.4424\n"
          ]
        },
        {
          "data": {
            "image/png": "[encoded data removed]",
            "text/plain": [
              "<Figure size 640x480 with 1 Axes>"
            ]
          },
          "metadata": {},
          "output_type": "display_data"
        }
      ],
      "source": [
        "bp = plt.boxplot([legitimos[:, colunas['A14']], fraudes[:, colunas['A14']]])\n",
        "\n",
        "coluna = 14\n",
        "\n",
        "medians = [item.get_ydata()[0] for item in bp['medians']]\n",
        "minimums = [round(item.get_ydata()[0], 1) for item in bp['caps']][::2]\n",
        "maximums = [round(item.get_ydata()[0], 1) for item in bp['caps']][1::2]\n",
        "\n",
        "outliersL = legitimos[legitimos[:, coluna] < minimums[0]]\n",
        "outliersL = outliersL[:, coluna]\n",
        "msgOutlierL_Bottom = \"---\"\n",
        "\n",
        "if outliersL.size > 0: msgOutlierL_Bottom = str(f\"{np.amin(outliersL):.4f}\")\n",
        "\n",
        "outliersL = legitimos[legitimos[:, coluna] > maximums[0]]\n",
        "outliersL = outliersL[:, coluna]\n",
        "msgOutlierL_Top = \"---\"\n",
        "\n",
        "if outliersL.size > 0: msgOutlierL_Top = str(f\"{np.amax(outliersL):.4f}\")\n",
        "\n",
        "outliersF = fraudes[fraudes[:,coluna] < minimums[1]]\n",
        "outliersF = outliersF[:, coluna]\n",
        "msgOutlierF_Bottom = \"---\"\n",
        "\n",
        "if outliersF.size > 0: msgOutlierF_Bottom = str(f\"{np.amin(outliersF):.4f}\")\n",
        "\n",
        "outliersF = fraudes[fraudes[:,coluna]  > maximums[1]]\n",
        "outliersF = outliersF[:, coluna]\n",
        "msgOutlierF_Top = \"---\"\n",
        "\n",
        "if outliersF.size > 0: msgOutlierF_Top = str(f\"{np.amax(outliersF):.4f}\")\n",
        "\n",
        "msgOutlierL = str(f\"\\nOutliers: Minimo {msgOutlierL_Bottom} e Maximo {msgOutlierL_Top}\")\n",
        "msgOutlierF = str(f\"\\nOutliers: Minimo {msgOutlierF_Bottom} e Maximo {msgOutlierF_Top}\")\n",
        "\n",
        "print(f\"Legitimo --> Mediana: {medians[0]:.4f}, Minimo da caixa: {minimums[0]}, Maximo da caixa: {maximums[0]}{msgOutlierL}\")\n",
        "print(f\"Fraude --> Mediana: {medians[1]:.4f}, Minimo da caixa: {minimums[1]}, Maximo da caixa: {maximums[1]}{msgOutlierF}\")\n",
        "\n",
        "plt.show()"
      ]
    },
    {
      "cell_type": "code",
      "execution_count": 36,
      "metadata": {
        "colab": {
          "base_uri": "https://localhost:8080/",
          "height": 499
        },
        "id": "rA0dshvEuivv",
        "outputId": "64ba09f4-d77e-4426-c88a-8d50a2904b25"
      },
      "outputs": [
        {
          "name": "stdout",
          "output_type": "stream",
          "text": [
            "Legitimo --> Mediana: 0.0483, Minimo da caixa: -2.4, Maximo da caixa: 2.5\n",
            "Outliers: Minimo -4.3913 e Maximo 8.8777\n",
            "Fraude --> Mediana: -0.0572, Minimo da caixa: -2.5, Maximo da caixa: 2.5\n",
            "Outliers: Minimo -4.4989 e Maximo ---\n"
          ]
        },
        {
          "data": {
            "image/png": "[encoded data removed]",
            "text/plain": [
              "<Figure size 640x480 with 1 Axes>"
            ]
          },
          "metadata": {},
          "output_type": "display_data"
        }
      ],
      "source": [
        "bp = plt.boxplot([legitimos[:, colunas['A15']], fraudes[:, colunas['A15']]])\n",
        "\n",
        "coluna = 15\n",
        "\n",
        "medians = [item.get_ydata()[0] for item in bp['medians']]\n",
        "minimums = [round(item.get_ydata()[0], 1) for item in bp['caps']][::2]\n",
        "maximums = [round(item.get_ydata()[0], 1) for item in bp['caps']][1::2]\n",
        "\n",
        "outliersL = legitimos[legitimos[:, coluna] < minimums[0]]\n",
        "outliersL = outliersL[:, coluna]\n",
        "msgOutlierL_Bottom = \"---\"\n",
        "\n",
        "if outliersL.size > 0: msgOutlierL_Bottom = str(f\"{np.amin(outliersL):.4f}\")\n",
        "\n",
        "outliersL = legitimos[legitimos[:, coluna] > maximums[0]]\n",
        "outliersL = outliersL[:, coluna]\n",
        "msgOutlierL_Top = \"---\"\n",
        "\n",
        "if outliersL.size > 0: msgOutlierL_Top = str(f\"{np.amax(outliersL):.4f}\")\n",
        "\n",
        "outliersF = fraudes[fraudes[:,coluna] < minimums[1]]\n",
        "outliersF = outliersF[:, coluna]\n",
        "msgOutlierF_Bottom = \"---\"\n",
        "\n",
        "if outliersF.size > 0: msgOutlierF_Bottom = str(f\"{np.amin(outliersF):.4f}\")\n",
        "\n",
        "outliersF = fraudes[fraudes[:,coluna]  > maximums[1]]\n",
        "outliersF = outliersF[:, coluna]\n",
        "msgOutlierF_Top = \"---\"\n",
        "\n",
        "if outliersF.size > 0: msgOutlierF_Top = str(f\"{np.amax(outliersF):.4f}\")\n",
        "\n",
        "msgOutlierL = str(f\"\\nOutliers: Minimo {msgOutlierL_Bottom} e Maximo {msgOutlierL_Top}\")\n",
        "msgOutlierF = str(f\"\\nOutliers: Minimo {msgOutlierF_Bottom} e Maximo {msgOutlierF_Top}\")\n",
        "\n",
        "print(f\"Legitimo --> Mediana: {medians[0]:.4f}, Minimo da caixa: {minimums[0]}, Maximo da caixa: {maximums[0]}{msgOutlierL}\")\n",
        "print(f\"Fraude --> Mediana: {medians[1]:.4f}, Minimo da caixa: {minimums[1]}, Maximo da caixa: {maximums[1]}{msgOutlierF}\")\n",
        "\n",
        "plt.show()"
      ]
    },
    {
      "cell_type": "code",
      "execution_count": 37,
      "metadata": {
        "colab": {
          "base_uri": "https://localhost:8080/",
          "height": 499
        },
        "id": "-D0y8jpAukNV",
        "outputId": "857f4ed1-9726-4a6f-f7a8-092cfa51162b"
      },
      "outputs": [
        {
          "name": "stdout",
          "output_type": "stream",
          "text": [
            "Legitimo --> Mediana: 0.0674, Minimo da caixa: -1.9, Maximo da caixa: 2.0\n",
            "Outliers: Minimo -10.1156 e Maximo 17.3151\n",
            "Fraude --> Mediana: -3.5498, Minimo da caixa: -14.1, Maximo da caixa: 3.1\n",
            "Outliers: Minimo -14.1299 e Maximo 3.1397\n"
          ]
        },
        {
          "data": {
            "image/png": "[encoded data removed]",
            "text/plain": [
              "<Figure size 640x480 with 1 Axes>"
            ]
          },
          "metadata": {},
          "output_type": "display_data"
        }
      ],
      "source": [
        "bp = plt.boxplot([legitimos[:, colunas['A16']], fraudes[:, colunas['A16']]])\n",
        "\n",
        "coluna = 16\n",
        "\n",
        "medians = [item.get_ydata()[0] for item in bp['medians']]\n",
        "minimums = [round(item.get_ydata()[0], 1) for item in bp['caps']][::2]\n",
        "maximums = [round(item.get_ydata()[0], 1) for item in bp['caps']][1::2]\n",
        "\n",
        "outliersL = legitimos[legitimos[:, coluna] < minimums[0]]\n",
        "outliersL = outliersL[:, coluna]\n",
        "msgOutlierL_Bottom = \"---\"\n",
        "\n",
        "if outliersL.size > 0: msgOutlierL_Bottom = str(f\"{np.amin(outliersL):.4f}\")\n",
        "\n",
        "outliersL = legitimos[legitimos[:, coluna] > maximums[0]]\n",
        "outliersL = outliersL[:, coluna]\n",
        "msgOutlierL_Top = \"---\"\n",
        "\n",
        "if outliersL.size > 0: msgOutlierL_Top = str(f\"{np.amax(outliersL):.4f}\")\n",
        "\n",
        "outliersF = fraudes[fraudes[:,coluna] < minimums[1]]\n",
        "outliersF = outliersF[:, coluna]\n",
        "msgOutlierF_Bottom = \"---\"\n",
        "\n",
        "if outliersF.size > 0: msgOutlierF_Bottom = str(f\"{np.amin(outliersF):.4f}\")\n",
        "\n",
        "outliersF = fraudes[fraudes[:,coluna]  > maximums[1]]\n",
        "outliersF = outliersF[:, coluna]\n",
        "msgOutlierF_Top = \"---\"\n",
        "\n",
        "if outliersF.size > 0: msgOutlierF_Top = str(f\"{np.amax(outliersF):.4f}\")\n",
        "\n",
        "msgOutlierL = str(f\"\\nOutliers: Minimo {msgOutlierL_Bottom} e Maximo {msgOutlierL_Top}\")\n",
        "msgOutlierF = str(f\"\\nOutliers: Minimo {msgOutlierF_Bottom} e Maximo {msgOutlierF_Top}\")\n",
        "\n",
        "print(f\"Legitimo --> Mediana: {medians[0]:.4f}, Minimo da caixa: {minimums[0]}, Maximo da caixa: {maximums[0]}{msgOutlierL}\")\n",
        "print(f\"Fraude --> Mediana: {medians[1]:.4f}, Minimo da caixa: {minimums[1]}, Maximo da caixa: {maximums[1]}{msgOutlierF}\")\n",
        "\n",
        "plt.show()"
      ]
    },
    {
      "cell_type": "code",
      "execution_count": 38,
      "metadata": {
        "colab": {
          "base_uri": "https://localhost:8080/",
          "height": 499
        },
        "id": "ziYoOXANulfR",
        "outputId": "436ab3da-d8c0-4531-8d00-04876f76701a"
      },
      "outputs": [
        {
          "name": "stdout",
          "output_type": "stream",
          "text": [
            "Legitimo --> Mediana: -0.0648, Minimo da caixa: -1.8, Maximo da caixa: 1.7\n",
            "Outliers: Minimo -17.0984 e Maximo 9.2535\n",
            "Fraude --> Mediana: -5.3029, Minimo da caixa: -25.2, Maximo da caixa: 6.7\n",
            "Outliers: Minimo --- e Maximo 6.7394\n"
          ]
        },
        {
          "data": {
            "image/png": "[encoded data removed]",
            "text/plain": [
              "<Figure size 640x480 with 1 Axes>"
            ]
          },
          "metadata": {},
          "output_type": "display_data"
        }
      ],
      "source": [
        "bp = plt.boxplot([legitimos[:, colunas['A17']], fraudes[:, colunas['A17']]])\n",
        "\n",
        "coluna = 17\n",
        "\n",
        "medians = [item.get_ydata()[0] for item in bp['medians']]\n",
        "minimums = [round(item.get_ydata()[0], 1) for item in bp['caps']][::2]\n",
        "maximums = [round(item.get_ydata()[0], 1) for item in bp['caps']][1::2]\n",
        "\n",
        "outliersL = legitimos[legitimos[:, coluna] < minimums[0]]\n",
        "outliersL = outliersL[:, coluna]\n",
        "msgOutlierL_Bottom = \"---\"\n",
        "\n",
        "if outliersL.size > 0: msgOutlierL_Bottom = str(f\"{np.amin(outliersL):.4f}\")\n",
        "\n",
        "outliersL = legitimos[legitimos[:, coluna] > maximums[0]]\n",
        "outliersL = outliersL[:, coluna]\n",
        "msgOutlierL_Top = \"---\"\n",
        "\n",
        "if outliersL.size > 0: msgOutlierL_Top = str(f\"{np.amax(outliersL):.4f}\")\n",
        "\n",
        "outliersF = fraudes[fraudes[:,coluna] < minimums[1]]\n",
        "outliersF = outliersF[:, coluna]\n",
        "msgOutlierF_Bottom = \"---\"\n",
        "\n",
        "if outliersF.size > 0: msgOutlierF_Bottom = str(f\"{np.amin(outliersF):.4f}\")\n",
        "\n",
        "outliersF = fraudes[fraudes[:,coluna]  > maximums[1]]\n",
        "outliersF = outliersF[:, coluna]\n",
        "msgOutlierF_Top = \"---\"\n",
        "\n",
        "if outliersF.size > 0: msgOutlierF_Top = str(f\"{np.amax(outliersF):.4f}\")\n",
        "\n",
        "msgOutlierL = str(f\"\\nOutliers: Minimo {msgOutlierL_Bottom} e Maximo {msgOutlierL_Top}\")\n",
        "msgOutlierF = str(f\"\\nOutliers: Minimo {msgOutlierF_Bottom} e Maximo {msgOutlierF_Top}\")\n",
        "\n",
        "print(f\"Legitimo --> Mediana: {medians[0]:.4f}, Minimo da caixa: {minimums[0]}, Maximo da caixa: {maximums[0]}{msgOutlierL}\")\n",
        "print(f\"Fraude --> Mediana: {medians[1]:.4f}, Minimo da caixa: {minimums[1]}, Maximo da caixa: {maximums[1]}{msgOutlierF}\")\n",
        "\n",
        "plt.show()"
      ]
    },
    {
      "cell_type": "code",
      "execution_count": 39,
      "metadata": {
        "colab": {
          "base_uri": "https://localhost:8080/",
          "height": 499
        },
        "id": "fjKbjiczunn4",
        "outputId": "ae814f9a-5c4a-4a4c-f4d5-890090355f90"
      },
      "outputs": [
        {
          "name": "stdout",
          "output_type": "stream",
          "text": [
            "Legitimo --> Mediana: -0.0028, Minimo da caixa: -2.0, Maximo da caixa: 2.0\n",
            "Outliers: Minimo -5.3667 e Maximo 5.0411\n",
            "Fraude --> Mediana: -1.6643, Minimo da caixa: -9.5, Maximo da caixa: 3.8\n",
            "Outliers: Minimo --- e Maximo ---\n"
          ]
        },
        {
          "data": {
            "image/png": "[encoded data removed]",
            "text/plain": [
              "<Figure size 640x480 with 1 Axes>"
            ]
          },
          "metadata": {},
          "output_type": "display_data"
        }
      ],
      "source": [
        "bp = plt.boxplot([legitimos[:, colunas['A18']], fraudes[:, colunas['A18']]])\n",
        "\n",
        "coluna = 18\n",
        "\n",
        "medians = [item.get_ydata()[0] for item in bp['medians']]\n",
        "minimums = [round(item.get_ydata()[0], 1) for item in bp['caps']][::2]\n",
        "maximums = [round(item.get_ydata()[0], 1) for item in bp['caps']][1::2]\n",
        "\n",
        "outliersL = legitimos[legitimos[:, coluna] < minimums[0]]\n",
        "outliersL = outliersL[:, coluna]\n",
        "msgOutlierL_Bottom = \"---\"\n",
        "\n",
        "if outliersL.size > 0: msgOutlierL_Bottom = str(f\"{np.amin(outliersL):.4f}\")\n",
        "\n",
        "outliersL = legitimos[legitimos[:, coluna] > maximums[0]]\n",
        "outliersL = outliersL[:, coluna]\n",
        "msgOutlierL_Top = \"---\"\n",
        "\n",
        "if outliersL.size > 0: msgOutlierL_Top = str(f\"{np.amax(outliersL):.4f}\")\n",
        "\n",
        "outliersF = fraudes[fraudes[:,coluna] < minimums[1]]\n",
        "outliersF = outliersF[:, coluna]\n",
        "msgOutlierF_Bottom = \"---\"\n",
        "\n",
        "if outliersF.size > 0: msgOutlierF_Bottom = str(f\"{np.amin(outliersF):.4f}\")\n",
        "\n",
        "outliersF = fraudes[fraudes[:,coluna]  > maximums[1]]\n",
        "outliersF = outliersF[:, coluna]\n",
        "msgOutlierF_Top = \"---\"\n",
        "\n",
        "if outliersF.size > 0: msgOutlierF_Top = str(f\"{np.amax(outliersF):.4f}\")\n",
        "\n",
        "msgOutlierL = str(f\"\\nOutliers: Minimo {msgOutlierL_Bottom} e Maximo {msgOutlierL_Top}\")\n",
        "msgOutlierF = str(f\"\\nOutliers: Minimo {msgOutlierF_Bottom} e Maximo {msgOutlierF_Top}\")\n",
        "\n",
        "print(f\"Legitimo --> Mediana: {medians[0]:.4f}, Minimo da caixa: {minimums[0]}, Maximo da caixa: {maximums[0]}{msgOutlierL}\")\n",
        "print(f\"Fraude --> Mediana: {medians[1]:.4f}, Minimo da caixa: {minimums[1]}, Maximo da caixa: {maximums[1]}{msgOutlierF}\")\n",
        "\n",
        "plt.show()"
      ]
    },
    {
      "cell_type": "code",
      "execution_count": 40,
      "metadata": {
        "colab": {
          "base_uri": "https://localhost:8080/",
          "height": 499
        },
        "id": "563sUvPWuqg4",
        "outputId": "aeee3a9f-d2d8-422d-8a68-44f8ada25244"
      },
      "outputs": [
        {
          "name": "stdout",
          "output_type": "stream",
          "text": [
            "Legitimo --> Mediana: 0.0031, Minimo da caixa: -1.8, Maximo da caixa: 1.8\n",
            "Outliers: Minimo -7.2135 e Maximo 5.5920\n",
            "Fraude --> Mediana: 0.6468, Minimo da caixa: -2.9, Maximo da caixa: 4.1\n",
            "Outliers: Minimo -3.6819 e Maximo 5.2283\n"
          ]
        },
        {
          "data": {
            "image/png": "[encoded data removed]",
            "text/plain": [
              "<Figure size 640x480 with 1 Axes>"
            ]
          },
          "metadata": {},
          "output_type": "display_data"
        }
      ],
      "source": [
        "bp = plt.boxplot([legitimos[:, colunas['A19']], fraudes[:, colunas['A19']]])\n",
        "\n",
        "coluna = 19\n",
        "\n",
        "medians = [item.get_ydata()[0] for item in bp['medians']]\n",
        "minimums = [round(item.get_ydata()[0], 1) for item in bp['caps']][::2]\n",
        "maximums = [round(item.get_ydata()[0], 1) for item in bp['caps']][1::2]\n",
        "\n",
        "outliersL = legitimos[legitimos[:, coluna] < minimums[0]]\n",
        "outliersL = outliersL[:, coluna]\n",
        "msgOutlierL_Bottom = \"---\"\n",
        "\n",
        "if outliersL.size > 0: msgOutlierL_Bottom = str(f\"{np.amin(outliersL):.4f}\")\n",
        "\n",
        "outliersL = legitimos[legitimos[:, coluna] > maximums[0]]\n",
        "outliersL = outliersL[:, coluna]\n",
        "msgOutlierL_Top = \"---\"\n",
        "\n",
        "if outliersL.size > 0: msgOutlierL_Top = str(f\"{np.amax(outliersL):.4f}\")\n",
        "\n",
        "outliersF = fraudes[fraudes[:,coluna] < minimums[1]]\n",
        "outliersF = outliersF[:, coluna]\n",
        "msgOutlierF_Bottom = \"---\"\n",
        "\n",
        "if outliersF.size > 0: msgOutlierF_Bottom = str(f\"{np.amin(outliersF):.4f}\")\n",
        "\n",
        "outliersF = fraudes[fraudes[:,coluna]  > maximums[1]]\n",
        "outliersF = outliersF[:, coluna]\n",
        "msgOutlierF_Top = \"---\"\n",
        "\n",
        "if outliersF.size > 0: msgOutlierF_Top = str(f\"{np.amax(outliersF):.4f}\")\n",
        "\n",
        "msgOutlierL = str(f\"\\nOutliers: Minimo {msgOutlierL_Bottom} e Maximo {msgOutlierL_Top}\")\n",
        "msgOutlierF = str(f\"\\nOutliers: Minimo {msgOutlierF_Bottom} e Maximo {msgOutlierF_Top}\")\n",
        "\n",
        "print(f\"Legitimo --> Mediana: {medians[0]:.4f}, Minimo da caixa: {minimums[0]}, Maximo da caixa: {maximums[0]}{msgOutlierL}\")\n",
        "print(f\"Fraude --> Mediana: {medians[1]:.4f}, Minimo da caixa: {minimums[1]}, Maximo da caixa: {maximums[1]}{msgOutlierF}\")\n",
        "\n",
        "plt.show()"
      ]
    },
    {
      "cell_type": "code",
      "execution_count": 41,
      "metadata": {
        "colab": {
          "base_uri": "https://localhost:8080/",
          "height": 499
        },
        "id": "WLKgsuLsutOj",
        "outputId": "230dba9e-0671-4f28-f4fc-f6a9be3dcbc2"
      },
      "outputs": [
        {
          "name": "stdout",
          "output_type": "stream",
          "text": [
            "Legitimo --> Mediana: -0.0626, Minimo da caixa: -0.7, Maximo da caixa: 0.6\n",
            "Outliers: Minimo -54.4977 e Maximo 39.4209\n",
            "Fraude --> Mediana: 0.2847, Minimo da caixa: -1.6, Maximo da caixa: 2.3\n",
            "Outliers: Minimo -4.1282 e Maximo 11.0590\n"
          ]
        },
        {
          "data": {
            "image/png": "[encoded data removed]",
            "text/plain": [
              "<Figure size 640x480 with 1 Axes>"
            ]
          },
          "metadata": {},
          "output_type": "display_data"
        }
      ],
      "source": [
        "bp = plt.boxplot([legitimos[:, colunas['A20']], fraudes[:, colunas['A20']]])\n",
        "\n",
        "coluna = 20\n",
        "\n",
        "medians = [item.get_ydata()[0] for item in bp['medians']]\n",
        "minimums = [round(item.get_ydata()[0], 1) for item in bp['caps']][::2]\n",
        "maximums = [round(item.get_ydata()[0], 1) for item in bp['caps']][1::2]\n",
        "\n",
        "outliersL = legitimos[legitimos[:, coluna] < minimums[0]]\n",
        "outliersL = outliersL[:, coluna]\n",
        "msgOutlierL_Bottom = \"---\"\n",
        "\n",
        "if outliersL.size > 0: msgOutlierL_Bottom = str(f\"{np.amin(outliersL):.4f}\")\n",
        "\n",
        "outliersL = legitimos[legitimos[:, coluna] > maximums[0]]\n",
        "outliersL = outliersL[:, coluna]\n",
        "msgOutlierL_Top = \"---\"\n",
        "\n",
        "if outliersL.size > 0: msgOutlierL_Top = str(f\"{np.amax(outliersL):.4f}\")\n",
        "\n",
        "outliersF = fraudes[fraudes[:,coluna] < minimums[1]]\n",
        "outliersF = outliersF[:, coluna]\n",
        "msgOutlierF_Bottom = \"---\"\n",
        "\n",
        "if outliersF.size > 0: msgOutlierF_Bottom = str(f\"{np.amin(outliersF):.4f}\")\n",
        "\n",
        "outliersF = fraudes[fraudes[:,coluna]  > maximums[1]]\n",
        "outliersF = outliersF[:, coluna]\n",
        "msgOutlierF_Top = \"---\"\n",
        "\n",
        "if outliersF.size > 0: msgOutlierF_Top = str(f\"{np.amax(outliersF):.4f}\")\n",
        "\n",
        "msgOutlierL = str(f\"\\nOutliers: Minimo {msgOutlierL_Bottom} e Maximo {msgOutlierL_Top}\")\n",
        "msgOutlierF = str(f\"\\nOutliers: Minimo {msgOutlierF_Bottom} e Maximo {msgOutlierF_Top}\")\n",
        "\n",
        "print(f\"Legitimo --> Mediana: {medians[0]:.4f}, Minimo da caixa: {minimums[0]}, Maximo da caixa: {maximums[0]}{msgOutlierL}\")\n",
        "print(f\"Fraude --> Mediana: {medians[1]:.4f}, Minimo da caixa: {minimums[1]}, Maximo da caixa: {maximums[1]}{msgOutlierF}\")\n",
        "\n",
        "plt.show()"
      ]
    },
    {
      "cell_type": "code",
      "execution_count": 42,
      "metadata": {
        "colab": {
          "base_uri": "https://localhost:8080/",
          "height": 503
        },
        "id": "z3ETknOwuwKb",
        "outputId": "2f357918-f66a-4415-d6ab-20edf425d0a5"
      },
      "outputs": [
        {
          "name": "stdout",
          "output_type": "stream",
          "text": [
            "Legitimo --> Mediana: -0.0298, Minimo da caixa: -0.8, Maximo da caixa: 0.8\n",
            "Outliers: Minimo -34.8304 e Maximo 22.6149\n",
            "Fraude --> Mediana: 0.5921, Minimo da caixa: -1.4, Maximo da caixa: 3.0\n",
            "Outliers: Minimo -22.7976 e Maximo 27.2028\n"
          ]
        },
        {
          "data": {
            "image/png": "[encoded data removed]",
            "text/plain": [
              "<Figure size 640x480 with 1 Axes>"
            ]
          },
          "metadata": {},
          "output_type": "display_data"
        }
      ],
      "source": [
        "bp = plt.boxplot([legitimos[:, colunas['A21']], fraudes[:, colunas['A21']]])\n",
        "\n",
        "coluna = 21\n",
        "\n",
        "medians = [item.get_ydata()[0] for item in bp['medians']]\n",
        "minimums = [round(item.get_ydata()[0], 1) for item in bp['caps']][::2]\n",
        "maximums = [round(item.get_ydata()[0], 1) for item in bp['caps']][1::2]\n",
        "\n",
        "outliersL = legitimos[legitimos[:, coluna] < minimums[0]]\n",
        "outliersL = outliersL[:, coluna]\n",
        "msgOutlierL_Bottom = \"---\"\n",
        "\n",
        "if outliersL.size > 0: msgOutlierL_Bottom = str(f\"{np.amin(outliersL):.4f}\")\n",
        "\n",
        "outliersL = legitimos[legitimos[:, coluna] > maximums[0]]\n",
        "outliersL = outliersL[:, coluna]\n",
        "msgOutlierL_Top = \"---\"\n",
        "\n",
        "if outliersL.size > 0: msgOutlierL_Top = str(f\"{np.amax(outliersL):.4f}\")\n",
        "\n",
        "outliersF = fraudes[fraudes[:,coluna] < minimums[1]]\n",
        "outliersF = outliersF[:, coluna]\n",
        "msgOutlierF_Bottom = \"---\"\n",
        "\n",
        "if outliersF.size > 0: msgOutlierF_Bottom = str(f\"{np.amin(outliersF):.4f}\")\n",
        "\n",
        "outliersF = fraudes[fraudes[:,coluna]  > maximums[1]]\n",
        "outliersF = outliersF[:, coluna]\n",
        "msgOutlierF_Top = \"---\"\n",
        "\n",
        "if outliersF.size > 0: msgOutlierF_Top = str(f\"{np.amax(outliersF):.4f}\")\n",
        "\n",
        "msgOutlierL = str(f\"\\nOutliers: Minimo {msgOutlierL_Bottom} e Maximo {msgOutlierL_Top}\")\n",
        "msgOutlierF = str(f\"\\nOutliers: Minimo {msgOutlierF_Bottom} e Maximo {msgOutlierF_Top}\")\n",
        "\n",
        "print(f\"Legitimo --> Mediana: {medians[0]:.4f}, Minimo da caixa: {minimums[0]}, Maximo da caixa: {maximums[0]}{msgOutlierL}\")\n",
        "print(f\"Fraude --> Mediana: {medians[1]:.4f}, Minimo da caixa: {minimums[1]}, Maximo da caixa: {maximums[1]}{msgOutlierF}\")\n",
        "\n",
        "plt.show()"
      ]
    },
    {
      "cell_type": "code",
      "execution_count": 43,
      "metadata": {
        "colab": {
          "base_uri": "https://localhost:8080/",
          "height": 499
        },
        "id": "iF3kiMefuyo9",
        "outputId": "b35c5a79-225e-4b65-b5b4-d1ca4d384e99"
      },
      "outputs": [
        {
          "name": "stdout",
          "output_type": "stream",
          "text": [
            "Legitimo --> Mediana: 0.0067, Minimo da caixa: -2.1, Maximo da caixa: 2.1\n",
            "Outliers: Minimo -10.9331 e Maximo 10.5031\n",
            "Fraude --> Mediana: 0.0484, Minimo da caixa: -2.2, Maximo da caixa: 2.2\n",
            "Outliers: Minimo -8.8870 e Maximo 8.3620\n"
          ]
        },
        {
          "data": {
            "image/png": "[encoded data removed]",
            "text/plain": [
              "<Figure size 640x480 with 1 Axes>"
            ]
          },
          "metadata": {},
          "output_type": "display_data"
        }
      ],
      "source": [
        "bp = plt.boxplot([legitimos[:, colunas['A22']], fraudes[:, colunas['A22']]])\n",
        "\n",
        "coluna = 22\n",
        "\n",
        "medians = [item.get_ydata()[0] for item in bp['medians']]\n",
        "minimums = [round(item.get_ydata()[0], 1) for item in bp['caps']][::2]\n",
        "maximums = [round(item.get_ydata()[0], 1) for item in bp['caps']][1::2]\n",
        "\n",
        "outliersL = legitimos[legitimos[:, coluna] < minimums[0]]\n",
        "outliersL = outliersL[:, coluna]\n",
        "msgOutlierL_Bottom = \"---\"\n",
        "\n",
        "if outliersL.size > 0: msgOutlierL_Bottom = str(f\"{np.amin(outliersL):.4f}\")\n",
        "\n",
        "outliersL = legitimos[legitimos[:, coluna] > maximums[0]]\n",
        "outliersL = outliersL[:, coluna]\n",
        "msgOutlierL_Top = \"---\"\n",
        "\n",
        "if outliersL.size > 0: msgOutlierL_Top = str(f\"{np.amax(outliersL):.4f}\")\n",
        "\n",
        "outliersF = fraudes[fraudes[:,coluna] < minimums[1]]\n",
        "outliersF = outliersF[:, coluna]\n",
        "msgOutlierF_Bottom = \"---\"\n",
        "\n",
        "if outliersF.size > 0: msgOutlierF_Bottom = str(f\"{np.amin(outliersF):.4f}\")\n",
        "\n",
        "outliersF = fraudes[fraudes[:,coluna]  > maximums[1]]\n",
        "outliersF = outliersF[:, coluna]\n",
        "msgOutlierF_Top = \"---\"\n",
        "\n",
        "if outliersF.size > 0: msgOutlierF_Top = str(f\"{np.amax(outliersF):.4f}\")\n",
        "\n",
        "msgOutlierL = str(f\"\\nOutliers: Minimo {msgOutlierL_Bottom} e Maximo {msgOutlierL_Top}\")\n",
        "msgOutlierF = str(f\"\\nOutliers: Minimo {msgOutlierF_Bottom} e Maximo {msgOutlierF_Top}\")\n",
        "\n",
        "print(f\"Legitimo --> Mediana: {medians[0]:.4f}, Minimo da caixa: {minimums[0]}, Maximo da caixa: {maximums[0]}{msgOutlierL}\")\n",
        "print(f\"Fraude --> Mediana: {medians[1]:.4f}, Minimo da caixa: {minimums[1]}, Maximo da caixa: {maximums[1]}{msgOutlierF}\")\n",
        "\n",
        "plt.show()"
      ]
    },
    {
      "cell_type": "code",
      "execution_count": 45,
      "metadata": {
        "colab": {
          "base_uri": "https://localhost:8080/",
          "height": 499
        },
        "id": "TmVORFWXu7LH",
        "outputId": "567d34a6-8bbf-4fc2-9c63-c1b52463e475"
      },
      "outputs": [
        {
          "name": "stdout",
          "output_type": "stream",
          "text": [
            "Legitimo --> Mediana: -0.0111, Minimo da caixa: -0.6, Maximo da caixa: 0.6\n",
            "Outliers: Minimo -44.8077 e Maximo 22.5284\n",
            "Fraude --> Mediana: -0.0731, Minimo da caixa: -1.3, Maximo da caixa: 1.2\n",
            "Outliers: Minimo -19.2543 e Maximo 5.4662\n"
          ]
        },
        {
          "data": {
            "image/png": "[encoded data removed]",
            "text/plain": [
              "<Figure size 640x480 with 1 Axes>"
            ]
          },
          "metadata": {},
          "output_type": "display_data"
        }
      ],
      "source": [
        "bp = plt.boxplot([legitimos[:, colunas['A23']], fraudes[:, colunas['A23']]])\n",
        "\n",
        "coluna = 23\n",
        "\n",
        "medians = [item.get_ydata()[0] for item in bp['medians']]\n",
        "minimums = [round(item.get_ydata()[0], 1) for item in bp['caps']][::2]\n",
        "maximums = [round(item.get_ydata()[0], 1) for item in bp['caps']][1::2]\n",
        "\n",
        "outliersL = legitimos[legitimos[:, coluna] < minimums[0]]\n",
        "outliersL = outliersL[:, coluna]\n",
        "msgOutlierL_Bottom = \"---\"\n",
        "\n",
        "if outliersL.size > 0: msgOutlierL_Bottom = str(f\"{np.amin(outliersL):.4f}\")\n",
        "\n",
        "outliersL = legitimos[legitimos[:, coluna] > maximums[0]]\n",
        "outliersL = outliersL[:, coluna]\n",
        "msgOutlierL_Top = \"---\"\n",
        "\n",
        "if outliersL.size > 0: msgOutlierL_Top = str(f\"{np.amax(outliersL):.4f}\")\n",
        "\n",
        "outliersF = fraudes[fraudes[:,coluna] < minimums[1]]\n",
        "outliersF = outliersF[:, coluna]\n",
        "msgOutlierF_Bottom = \"---\"\n",
        "\n",
        "if outliersF.size > 0: msgOutlierF_Bottom = str(f\"{np.amin(outliersF):.4f}\")\n",
        "\n",
        "outliersF = fraudes[fraudes[:,coluna]  > maximums[1]]\n",
        "outliersF = outliersF[:, coluna]\n",
        "msgOutlierF_Top = \"---\"\n",
        "\n",
        "if outliersF.size > 0: msgOutlierF_Top = str(f\"{np.amax(outliersF):.4f}\")\n",
        "\n",
        "msgOutlierL = str(f\"\\nOutliers: Minimo {msgOutlierL_Bottom} e Maximo {msgOutlierL_Top}\")\n",
        "msgOutlierF = str(f\"\\nOutliers: Minimo {msgOutlierF_Bottom} e Maximo {msgOutlierF_Top}\")\n",
        "\n",
        "print(f\"Legitimo --> Mediana: {medians[0]:.4f}, Minimo da caixa: {minimums[0]}, Maximo da caixa: {maximums[0]}{msgOutlierL}\")\n",
        "print(f\"Fraude --> Mediana: {medians[1]:.4f}, Minimo da caixa: {minimums[1]}, Maximo da caixa: {maximums[1]}{msgOutlierF}\")\n",
        "\n",
        "plt.show()"
      ]
    },
    {
      "cell_type": "code",
      "execution_count": 46,
      "metadata": {
        "colab": {
          "base_uri": "https://localhost:8080/",
          "height": 499
        },
        "id": "cQ-QTvQ1u9co",
        "outputId": "11fc4cdc-9f42-4ca0-d8e5-6b00bf1d4b5a"
      },
      "outputs": [
        {
          "name": "stdout",
          "output_type": "stream",
          "text": [
            "Legitimo --> Mediana: 0.0411, Minimo da caixa: -1.5, Maximo da caixa: 1.6\n",
            "Outliers: Minimo -2.8366 e Maximo 4.5845\n",
            "Fraude --> Mediana: -0.0608, Minimo da caixa: -1.5, Maximo da caixa: 1.1\n",
            "Outliers: Minimo -2.0280 e Maximo ---\n"
          ]
        },
        {
          "data": {
            "image/png": "[encoded data removed]",
            "text/plain": [
              "<Figure size 640x480 with 1 Axes>"
            ]
          },
          "metadata": {},
          "output_type": "display_data"
        }
      ],
      "source": [
        "bp = plt.boxplot([legitimos[:, colunas['A24']], fraudes[:, colunas['A24']]])\n",
        "\n",
        "coluna = 24\n",
        "\n",
        "medians = [item.get_ydata()[0] for item in bp['medians']]\n",
        "minimums = [round(item.get_ydata()[0], 1) for item in bp['caps']][::2]\n",
        "maximums = [round(item.get_ydata()[0], 1) for item in bp['caps']][1::2]\n",
        "\n",
        "outliersL = legitimos[legitimos[:, coluna] < minimums[0]]\n",
        "outliersL = outliersL[:, coluna]\n",
        "msgOutlierL_Bottom = \"---\"\n",
        "\n",
        "if outliersL.size > 0: msgOutlierL_Bottom = str(f\"{np.amin(outliersL):.4f}\")\n",
        "\n",
        "outliersL = legitimos[legitimos[:, coluna] > maximums[0]]\n",
        "outliersL = outliersL[:, coluna]\n",
        "msgOutlierL_Top = \"---\"\n",
        "\n",
        "if outliersL.size > 0: msgOutlierL_Top = str(f\"{np.amax(outliersL):.4f}\")\n",
        "\n",
        "outliersF = fraudes[fraudes[:,coluna] < minimums[1]]\n",
        "outliersF = outliersF[:, coluna]\n",
        "msgOutlierF_Bottom = \"---\"\n",
        "\n",
        "if outliersF.size > 0: msgOutlierF_Bottom = str(f\"{np.amin(outliersF):.4f}\")\n",
        "\n",
        "outliersF = fraudes[fraudes[:,coluna]  > maximums[1]]\n",
        "outliersF = outliersF[:, coluna]\n",
        "msgOutlierF_Top = \"---\"\n",
        "\n",
        "if outliersF.size > 0: msgOutlierF_Top = str(f\"{np.amax(outliersF):.4f}\")\n",
        "\n",
        "msgOutlierL = str(f\"\\nOutliers: Minimo {msgOutlierL_Bottom} e Maximo {msgOutlierL_Top}\")\n",
        "msgOutlierF = str(f\"\\nOutliers: Minimo {msgOutlierF_Bottom} e Maximo {msgOutlierF_Top}\")\n",
        "\n",
        "print(f\"Legitimo --> Mediana: {medians[0]:.4f}, Minimo da caixa: {minimums[0]}, Maximo da caixa: {maximums[0]}{msgOutlierL}\")\n",
        "print(f\"Fraude --> Mediana: {medians[1]:.4f}, Minimo da caixa: {minimums[1]}, Maximo da caixa: {maximums[1]}{msgOutlierF}\")\n",
        "\n",
        "plt.show()"
      ]
    },
    {
      "cell_type": "code",
      "execution_count": 47,
      "metadata": {
        "colab": {
          "base_uri": "https://localhost:8080/",
          "height": 499
        },
        "id": "AHhCVddWu_ob",
        "outputId": "768188d6-e5b9-4fc0-c910-7c8fa64c76d3"
      },
      "outputs": [
        {
          "name": "stdout",
          "output_type": "stream",
          "text": [
            "Legitimo --> Mediana: 0.0164, Minimo da caixa: -1.3, Maximo da caixa: 1.4\n",
            "Outliers: Minimo -10.2954 e Maximo 7.5196\n",
            "Fraude --> Mediana: 0.0884, Minimo da caixa: -1.4, Maximo da caixa: 1.6\n",
            "Outliers: Minimo -4.7816 e Maximo 2.2082\n"
          ]
        },
        {
          "data": {
            "image/png": "[encoded data removed]",
            "text/plain": [
              "<Figure size 640x480 with 1 Axes>"
            ]
          },
          "metadata": {},
          "output_type": "display_data"
        }
      ],
      "source": [
        "bp = plt.boxplot([legitimos[:, colunas['A25']], fraudes[:, colunas['A25']]])\n",
        "\n",
        "coluna = 25\n",
        "\n",
        "medians = [item.get_ydata()[0] for item in bp['medians']]\n",
        "minimums = [round(item.get_ydata()[0], 1) for item in bp['caps']][::2]\n",
        "maximums = [round(item.get_ydata()[0], 1) for item in bp['caps']][1::2]\n",
        "\n",
        "outliersL = legitimos[legitimos[:, coluna] < minimums[0]]\n",
        "outliersL = outliersL[:, coluna]\n",
        "msgOutlierL_Bottom = \"---\"\n",
        "\n",
        "if outliersL.size > 0: msgOutlierL_Bottom = str(f\"{np.amin(outliersL):.4f}\")\n",
        "\n",
        "outliersL = legitimos[legitimos[:, coluna] > maximums[0]]\n",
        "outliersL = outliersL[:, coluna]\n",
        "msgOutlierL_Top = \"---\"\n",
        "\n",
        "if outliersL.size > 0: msgOutlierL_Top = str(f\"{np.amax(outliersL):.4f}\")\n",
        "\n",
        "outliersF = fraudes[fraudes[:,coluna] < minimums[1]]\n",
        "outliersF = outliersF[:, coluna]\n",
        "msgOutlierF_Bottom = \"---\"\n",
        "\n",
        "if outliersF.size > 0: msgOutlierF_Bottom = str(f\"{np.amin(outliersF):.4f}\")\n",
        "\n",
        "outliersF = fraudes[fraudes[:,coluna]  > maximums[1]]\n",
        "outliersF = outliersF[:, coluna]\n",
        "msgOutlierF_Top = \"---\"\n",
        "\n",
        "if outliersF.size > 0: msgOutlierF_Top = str(f\"{np.amax(outliersF):.4f}\")\n",
        "\n",
        "msgOutlierL = str(f\"\\nOutliers: Minimo {msgOutlierL_Bottom} e Maximo {msgOutlierL_Top}\")\n",
        "msgOutlierF = str(f\"\\nOutliers: Minimo {msgOutlierF_Bottom} e Maximo {msgOutlierF_Top}\")\n",
        "\n",
        "print(f\"Legitimo --> Mediana: {medians[0]:.4f}, Minimo da caixa: {minimums[0]}, Maximo da caixa: {maximums[0]}{msgOutlierL}\")\n",
        "print(f\"Fraude --> Mediana: {medians[1]:.4f}, Minimo da caixa: {minimums[1]}, Maximo da caixa: {maximums[1]}{msgOutlierF}\")\n",
        "\n",
        "plt.show()"
      ]
    },
    {
      "cell_type": "code",
      "execution_count": 48,
      "metadata": {
        "colab": {
          "base_uri": "https://localhost:8080/",
          "height": 499
        },
        "id": "DDhxVnQivB7u",
        "outputId": "0d514785-1847-4b7e-e9a9-19dc65fb0650"
      },
      "outputs": [
        {
          "name": "stdout",
          "output_type": "stream",
          "text": [
            "Legitimo --> Mediana: -0.0522, Minimo da caixa: -1.2, Maximo da caixa: 1.1\n",
            "Outliers: Minimo -2.6046 e Maximo 3.5173\n",
            "Fraude --> Mediana: 0.0043, Minimo da caixa: -1.2, Maximo da caixa: 1.2\n",
            "Outliers: Minimo --- e Maximo 2.7453\n"
          ]
        },
        {
          "data": {
            "image/png": "[encoded data removed]",
            "text/plain": [
              "<Figure size 640x480 with 1 Axes>"
            ]
          },
          "metadata": {},
          "output_type": "display_data"
        }
      ],
      "source": [
        "bp = plt.boxplot([legitimos[:, colunas['A26']], fraudes[:, colunas['A26']]])\n",
        "\n",
        "coluna = 26\n",
        "\n",
        "medians = [item.get_ydata()[0] for item in bp['medians']]\n",
        "minimums = [round(item.get_ydata()[0], 1) for item in bp['caps']][::2]\n",
        "maximums = [round(item.get_ydata()[0], 1) for item in bp['caps']][1::2]\n",
        "\n",
        "outliersL = legitimos[legitimos[:, coluna] < minimums[0]]\n",
        "outliersL = outliersL[:, coluna]\n",
        "msgOutlierL_Bottom = \"---\"\n",
        "\n",
        "if outliersL.size > 0: msgOutlierL_Bottom = str(f\"{np.amin(outliersL):.4f}\")\n",
        "\n",
        "outliersL = legitimos[legitimos[:, coluna] > maximums[0]]\n",
        "outliersL = outliersL[:, coluna]\n",
        "msgOutlierL_Top = \"---\"\n",
        "\n",
        "if outliersL.size > 0: msgOutlierL_Top = str(f\"{np.amax(outliersL):.4f}\")\n",
        "\n",
        "outliersF = fraudes[fraudes[:,coluna] < minimums[1]]\n",
        "outliersF = outliersF[:, coluna]\n",
        "msgOutlierF_Bottom = \"---\"\n",
        "\n",
        "if outliersF.size > 0: msgOutlierF_Bottom = str(f\"{np.amin(outliersF):.4f}\")\n",
        "\n",
        "outliersF = fraudes[fraudes[:,coluna]  > maximums[1]]\n",
        "outliersF = outliersF[:, coluna]\n",
        "msgOutlierF_Top = \"---\"\n",
        "\n",
        "if outliersF.size > 0: msgOutlierF_Top = str(f\"{np.amax(outliersF):.4f}\")\n",
        "\n",
        "msgOutlierL = str(f\"\\nOutliers: Minimo {msgOutlierL_Bottom} e Maximo {msgOutlierL_Top}\")\n",
        "msgOutlierF = str(f\"\\nOutliers: Minimo {msgOutlierF_Bottom} e Maximo {msgOutlierF_Top}\")\n",
        "\n",
        "print(f\"Legitimo --> Mediana: {medians[0]:.4f}, Minimo da caixa: {minimums[0]}, Maximo da caixa: {maximums[0]}{msgOutlierL}\")\n",
        "print(f\"Fraude --> Mediana: {medians[1]:.4f}, Minimo da caixa: {minimums[1]}, Maximo da caixa: {maximums[1]}{msgOutlierF}\")\n",
        "\n",
        "plt.show()"
      ]
    },
    {
      "cell_type": "code",
      "execution_count": 49,
      "metadata": {
        "colab": {
          "base_uri": "https://localhost:8080/",
          "height": 499
        },
        "id": "hjWX7O4hvEvB",
        "outputId": "4bf62387-962f-44c7-8177-69c3dfe47a88"
      },
      "outputs": [
        {
          "name": "stdout",
          "output_type": "stream",
          "text": [
            "Legitimo --> Mediana: 0.0012, Minimo da caixa: -0.3, Maximo da caixa: 0.3\n",
            "Outliers: Minimo -22.5657 e Maximo 31.6122\n",
            "Fraude --> Mediana: 0.3949, Minimo da caixa: -1.2, Maximo da caixa: 2.1\n",
            "Outliers: Minimo -7.2635 e Maximo 3.0524\n"
          ]
        },
        {
          "data": {
            "image/png": "[encoded data removed]",
            "text/plain": [
              "<Figure size 640x480 with 1 Axes>"
            ]
          },
          "metadata": {},
          "output_type": "display_data"
        }
      ],
      "source": [
        "bp = plt.boxplot([legitimos[:, colunas['A27']], fraudes[:, colunas['A27']]])\n",
        "\n",
        "coluna = 27\n",
        "\n",
        "medians = [item.get_ydata()[0] for item in bp['medians']]\n",
        "minimums = [round(item.get_ydata()[0], 1) for item in bp['caps']][::2]\n",
        "maximums = [round(item.get_ydata()[0], 1) for item in bp['caps']][1::2]\n",
        "\n",
        "outliersL = legitimos[legitimos[:, coluna] < minimums[0]]\n",
        "outliersL = outliersL[:, coluna]\n",
        "msgOutlierL_Bottom = \"---\"\n",
        "\n",
        "if outliersL.size > 0: msgOutlierL_Bottom = str(f\"{np.amin(outliersL):.4f}\")\n",
        "\n",
        "outliersL = legitimos[legitimos[:, coluna] > maximums[0]]\n",
        "outliersL = outliersL[:, coluna]\n",
        "msgOutlierL_Top = \"---\"\n",
        "\n",
        "if outliersL.size > 0: msgOutlierL_Top = str(f\"{np.amax(outliersL):.4f}\")\n",
        "\n",
        "outliersF = fraudes[fraudes[:,coluna] < minimums[1]]\n",
        "outliersF = outliersF[:, coluna]\n",
        "msgOutlierF_Bottom = \"---\"\n",
        "\n",
        "if outliersF.size > 0: msgOutlierF_Bottom = str(f\"{np.amin(outliersF):.4f}\")\n",
        "\n",
        "outliersF = fraudes[fraudes[:,coluna]  > maximums[1]]\n",
        "outliersF = outliersF[:, coluna]\n",
        "msgOutlierF_Top = \"---\"\n",
        "\n",
        "if outliersF.size > 0: msgOutlierF_Top = str(f\"{np.amax(outliersF):.4f}\")\n",
        "\n",
        "msgOutlierL = str(f\"\\nOutliers: Minimo {msgOutlierL_Bottom} e Maximo {msgOutlierL_Top}\")\n",
        "msgOutlierF = str(f\"\\nOutliers: Minimo {msgOutlierF_Bottom} e Maximo {msgOutlierF_Top}\")\n",
        "\n",
        "print(f\"Legitimo --> Mediana: {medians[0]:.4f}, Minimo da caixa: {minimums[0]}, Maximo da caixa: {maximums[0]}{msgOutlierL}\")\n",
        "print(f\"Fraude --> Mediana: {medians[1]:.4f}, Minimo da caixa: {minimums[1]}, Maximo da caixa: {maximums[1]}{msgOutlierF}\")\n",
        "\n",
        "plt.show()"
      ]
    },
    {
      "cell_type": "code",
      "execution_count": 50,
      "metadata": {
        "colab": {
          "base_uri": "https://localhost:8080/",
          "height": 499
        },
        "id": "7GNqeH1FvHLm",
        "outputId": "076452e4-67fa-4daf-b7aa-fe5df254bf26"
      },
      "outputs": [
        {
          "name": "stdout",
          "output_type": "stream",
          "text": [
            "Legitimo --> Mediana: 0.0112, Minimo da caixa: -0.2, Maximo da caixa: 0.3\n",
            "Outliers: Minimo -15.4301 e Maximo 33.8478\n",
            "Fraude --> Mediana: 0.1463, Minimo da caixa: -0.8, Maximo da caixa: 1.1\n",
            "Outliers: Minimo -1.8693 e Maximo 1.7794\n"
          ]
        },
        {
          "data": {
            "image/png": "[encoded data removed]",
            "text/plain": [
              "<Figure size 640x480 with 1 Axes>"
            ]
          },
          "metadata": {},
          "output_type": "display_data"
        }
      ],
      "source": [
        "bp = plt.boxplot([legitimos[:, colunas['A28']], fraudes[:, colunas['A28']]])\n",
        "\n",
        "coluna = 28\n",
        "\n",
        "medians = [item.get_ydata()[0] for item in bp['medians']]\n",
        "minimums = [round(item.get_ydata()[0], 1) for item in bp['caps']][::2]\n",
        "maximums = [round(item.get_ydata()[0], 1) for item in bp['caps']][1::2]\n",
        "\n",
        "outliersL = legitimos[legitimos[:, coluna] < minimums[0]]\n",
        "outliersL = outliersL[:, coluna]\n",
        "msgOutlierL_Bottom = \"---\"\n",
        "\n",
        "if outliersL.size > 0: msgOutlierL_Bottom = str(f\"{np.amin(outliersL):.4f}\")\n",
        "\n",
        "outliersL = legitimos[legitimos[:, coluna] > maximums[0]]\n",
        "outliersL = outliersL[:, coluna]\n",
        "msgOutlierL_Top = \"---\"\n",
        "\n",
        "if outliersL.size > 0: msgOutlierL_Top = str(f\"{np.amax(outliersL):.4f}\")\n",
        "\n",
        "outliersF = fraudes[fraudes[:,coluna] < minimums[1]]\n",
        "outliersF = outliersF[:, coluna]\n",
        "msgOutlierF_Bottom = \"---\"\n",
        "\n",
        "if outliersF.size > 0: msgOutlierF_Bottom = str(f\"{np.amin(outliersF):.4f}\")\n",
        "\n",
        "outliersF = fraudes[fraudes[:,coluna]  > maximums[1]]\n",
        "outliersF = outliersF[:, coluna]\n",
        "msgOutlierF_Top = \"---\"\n",
        "\n",
        "if outliersF.size > 0: msgOutlierF_Top = str(f\"{np.amax(outliersF):.4f}\")\n",
        "\n",
        "msgOutlierL = str(f\"\\nOutliers: Minimo {msgOutlierL_Bottom} e Maximo {msgOutlierL_Top}\")\n",
        "msgOutlierF = str(f\"\\nOutliers: Minimo {msgOutlierF_Bottom} e Maximo {msgOutlierF_Top}\")\n",
        "\n",
        "print(f\"Legitimo --> Mediana: {medians[0]:.4f}, Minimo da caixa: {minimums[0]}, Maximo da caixa: {maximums[0]}{msgOutlierL}\")\n",
        "print(f\"Fraude --> Mediana: {medians[1]:.4f}, Minimo da caixa: {minimums[1]}, Maximo da caixa: {maximums[1]}{msgOutlierF}\")\n",
        "\n",
        "plt.show()"
      ]
    },
    {
      "cell_type": "code",
      "execution_count": 51,
      "metadata": {
        "colab": {
          "base_uri": "https://localhost:8080/",
          "height": 499
        },
        "id": "sat3ie35vOsq",
        "outputId": "7abeaa20-b7e1-4e8e-d9fe-3bbb07111b38"
      },
      "outputs": [
        {
          "name": "stdout",
          "output_type": "stream",
          "text": [
            "Legitimo --> Mediana: 22.0000, Minimo da caixa: 0.0, Maximo da caixa: 184.1\n",
            "Outliers: Minimo --- e Maximo 25691.1600\n",
            "Fraude --> Mediana: 9.2500, Minimo da caixa: 0.0, Maximo da caixa: 261.9\n",
            "Outliers: Minimo --- e Maximo 2125.8700\n"
          ]
        },
        {
          "data": {
            "image/png": "[encoded data removed]",
            "text/plain": [
              "<Figure size 640x480 with 1 Axes>"
            ]
          },
          "metadata": {},
          "output_type": "display_data"
        }
      ],
      "source": [
        "bp = plt.boxplot([legitimos[:, colunas['Amount']], fraudes[:, colunas['Amount']]])\n",
        "\n",
        "coluna = 29\n",
        "\n",
        "medians = [item.get_ydata()[0] for item in bp['medians']]\n",
        "minimums = [round(item.get_ydata()[0], 1) for item in bp['caps']][::2]\n",
        "maximums = [round(item.get_ydata()[0], 1) for item in bp['caps']][1::2]\n",
        "\n",
        "outliersL = legitimos[legitimos[:, coluna] < minimums[0]]\n",
        "outliersL = outliersL[:, coluna]\n",
        "msgOutlierL_Bottom = \"---\"\n",
        "\n",
        "if outliersL.size > 0: msgOutlierL_Bottom = str(f\"{np.amin(outliersL):.4f}\")\n",
        "\n",
        "outliersL = legitimos[legitimos[:, coluna] > maximums[0]]\n",
        "outliersL = outliersL[:, coluna]\n",
        "msgOutlierL_Top = \"---\"\n",
        "\n",
        "if outliersL.size > 0: msgOutlierL_Top = str(f\"{np.amax(outliersL):.4f}\")\n",
        "\n",
        "outliersF = fraudes[fraudes[:,coluna] < minimums[1]]\n",
        "outliersF = outliersF[:, coluna]\n",
        "msgOutlierF_Bottom = \"---\"\n",
        "\n",
        "if outliersF.size > 0: msgOutlierF_Bottom = str(f\"{np.amin(outliersF):.4f}\")\n",
        "\n",
        "outliersF = fraudes[fraudes[:,coluna]  > maximums[1]]\n",
        "outliersF = outliersF[:, coluna]\n",
        "msgOutlierF_Top = \"---\"\n",
        "\n",
        "if outliersF.size > 0: msgOutlierF_Top = str(f\"{np.amax(outliersF):.4f}\")\n",
        "\n",
        "msgOutlierL = str(f\"\\nOutliers: Minimo {msgOutlierL_Bottom} e Maximo {msgOutlierL_Top}\")\n",
        "msgOutlierF = str(f\"\\nOutliers: Minimo {msgOutlierF_Bottom} e Maximo {msgOutlierF_Top}\")\n",
        "\n",
        "print(f\"Legitimo --> Mediana: {medians[0]:.4f}, Minimo da caixa: {minimums[0]}, Maximo da caixa: {maximums[0]}{msgOutlierL}\")\n",
        "print(f\"Fraude --> Mediana: {medians[1]:.4f}, Minimo da caixa: {minimums[1]}, Maximo da caixa: {maximums[1]}{msgOutlierF}\")\n",
        "\n",
        "plt.show()"
      ]
    }
  ],
  "metadata": {
    "colab": {
      "provenance": []
    },
    "kernelspec": {
      "display_name": "Python 3",
      "name": "python3"
    },
    "language_info": {
      "codemirror_mode": {
        "name": "ipython",
        "version": 3
      },
      "file_extension": ".py",
      "mimetype": "text/x-python",
      "name": "python",
      "nbconvert_exporter": "python",
      "pygments_lexer": "ipython3",
      "version": "3.10.3"
    }
  },
  "nbformat": 4,
  "nbformat_minor": 0
}
